{
 "cells": [
  {
   "cell_type": "markdown",
   "metadata": {
    "slideshow": {
     "slide_type": "-"
    }
   },
   "source": [
    "# Ficha de trabalho 2\n",
    "Ficheiros a usar: \n",
    "* wines.csv - ficheiro com os dados das análises\n",
    "* wines_labels.csv - labels das classes\n",
    "\n",
    "\n",
    "**Sumário:**\n",
    "\n",
    "A data frame containing 177 rows and thirteen columns. These data are the results of chemical analyses of wines grown in the same region in Italy (Piedmont) but derived from three different cultivars (classes).\n"
   ]
  },
  {
   "cell_type": "code",
   "execution_count": 1,
   "metadata": {},
   "outputs": [],
   "source": [
    "import pandas as pd\n",
    "%matplotlib inline\n",
    "import matplotlib.pyplot as plt\n",
    "from scipy import stats\n",
    "import statsmodels.api as sm\n",
    "from sklearn import preprocessing"
   ]
  },
  {
   "cell_type": "markdown",
   "metadata": {
    "collapsed": true
   },
   "source": [
    "1 - Importa os dados presentes nos dois ficheiros."
   ]
  },
  {
   "cell_type": "code",
   "execution_count": 2,
   "metadata": {},
   "outputs": [
    {
     "output_type": "execute_result",
     "data": {
      "text/plain": [
       "     Unnamed: 0  alcohol  malic acid   ash  ash alkalinity  magnesium  \\\n",
       "0             1    13.20        1.78  2.14            11.2        100   \n",
       "1             2    13.16        2.36  2.67            18.6        101   \n",
       "2             3    14.37        1.95  2.50            16.8        113   \n",
       "3             4    13.24        2.59  2.87            21.0        118   \n",
       "4             5    14.20        1.76  2.45            15.2        112   \n",
       "..          ...      ...         ...   ...             ...        ...   \n",
       "172         173    13.71        5.65  2.45            20.5         95   \n",
       "173         174    13.40        3.91  2.48            23.0        102   \n",
       "174         175    13.27        4.28  2.26            20.0        120   \n",
       "175         176    13.17        2.59  2.37            20.0        120   \n",
       "176         177    14.13        4.10  2.74            24.5         96   \n",
       "\n",
       "     tot. phenols  flavonoids  non-flav. phenols  proanth  col. int.  \\\n",
       "0            2.65        2.76               0.26     1.28       4.38   \n",
       "1            2.80        3.24               0.30     2.81       5.68   \n",
       "2            3.85        3.49               0.24     2.18       7.80   \n",
       "3            2.80        2.69               0.39     1.82       4.32   \n",
       "4            3.27        3.39               0.34     1.97       6.75   \n",
       "..            ...         ...                ...      ...        ...   \n",
       "172          1.68        0.61               0.52     1.06       7.70   \n",
       "173          1.80        0.75               0.43     1.41       7.30   \n",
       "174          1.59        0.69               0.43     1.35      10.20   \n",
       "175          1.65        0.68               0.53     1.46       9.30   \n",
       "176          2.05        0.76               0.56     1.35       9.20   \n",
       "\n",
       "     col. hue  OD ratio  proline  \n",
       "0        1.05      3.40     1050  \n",
       "1        1.03      3.17     1185  \n",
       "2        0.86      3.45     1480  \n",
       "3        1.04      2.93      735  \n",
       "4        1.05      2.85     1450  \n",
       "..        ...       ...      ...  \n",
       "172      0.64      1.74      740  \n",
       "173      0.70      1.56      750  \n",
       "174      0.59      1.56      835  \n",
       "175      0.60      1.62      840  \n",
       "176      0.61      1.60      560  \n",
       "\n",
       "[177 rows x 14 columns]"
      ],
      "text/html": "<div>\n<style scoped>\n    .dataframe tbody tr th:only-of-type {\n        vertical-align: middle;\n    }\n\n    .dataframe tbody tr th {\n        vertical-align: top;\n    }\n\n    .dataframe thead th {\n        text-align: right;\n    }\n</style>\n<table border=\"1\" class=\"dataframe\">\n  <thead>\n    <tr style=\"text-align: right;\">\n      <th></th>\n      <th>Unnamed: 0</th>\n      <th>alcohol</th>\n      <th>malic acid</th>\n      <th>ash</th>\n      <th>ash alkalinity</th>\n      <th>magnesium</th>\n      <th>tot. phenols</th>\n      <th>flavonoids</th>\n      <th>non-flav. phenols</th>\n      <th>proanth</th>\n      <th>col. int.</th>\n      <th>col. hue</th>\n      <th>OD ratio</th>\n      <th>proline</th>\n    </tr>\n  </thead>\n  <tbody>\n    <tr>\n      <th>0</th>\n      <td>1</td>\n      <td>13.20</td>\n      <td>1.78</td>\n      <td>2.14</td>\n      <td>11.2</td>\n      <td>100</td>\n      <td>2.65</td>\n      <td>2.76</td>\n      <td>0.26</td>\n      <td>1.28</td>\n      <td>4.38</td>\n      <td>1.05</td>\n      <td>3.40</td>\n      <td>1050</td>\n    </tr>\n    <tr>\n      <th>1</th>\n      <td>2</td>\n      <td>13.16</td>\n      <td>2.36</td>\n      <td>2.67</td>\n      <td>18.6</td>\n      <td>101</td>\n      <td>2.80</td>\n      <td>3.24</td>\n      <td>0.30</td>\n      <td>2.81</td>\n      <td>5.68</td>\n      <td>1.03</td>\n      <td>3.17</td>\n      <td>1185</td>\n    </tr>\n    <tr>\n      <th>2</th>\n      <td>3</td>\n      <td>14.37</td>\n      <td>1.95</td>\n      <td>2.50</td>\n      <td>16.8</td>\n      <td>113</td>\n      <td>3.85</td>\n      <td>3.49</td>\n      <td>0.24</td>\n      <td>2.18</td>\n      <td>7.80</td>\n      <td>0.86</td>\n      <td>3.45</td>\n      <td>1480</td>\n    </tr>\n    <tr>\n      <th>3</th>\n      <td>4</td>\n      <td>13.24</td>\n      <td>2.59</td>\n      <td>2.87</td>\n      <td>21.0</td>\n      <td>118</td>\n      <td>2.80</td>\n      <td>2.69</td>\n      <td>0.39</td>\n      <td>1.82</td>\n      <td>4.32</td>\n      <td>1.04</td>\n      <td>2.93</td>\n      <td>735</td>\n    </tr>\n    <tr>\n      <th>4</th>\n      <td>5</td>\n      <td>14.20</td>\n      <td>1.76</td>\n      <td>2.45</td>\n      <td>15.2</td>\n      <td>112</td>\n      <td>3.27</td>\n      <td>3.39</td>\n      <td>0.34</td>\n      <td>1.97</td>\n      <td>6.75</td>\n      <td>1.05</td>\n      <td>2.85</td>\n      <td>1450</td>\n    </tr>\n    <tr>\n      <th>...</th>\n      <td>...</td>\n      <td>...</td>\n      <td>...</td>\n      <td>...</td>\n      <td>...</td>\n      <td>...</td>\n      <td>...</td>\n      <td>...</td>\n      <td>...</td>\n      <td>...</td>\n      <td>...</td>\n      <td>...</td>\n      <td>...</td>\n      <td>...</td>\n    </tr>\n    <tr>\n      <th>172</th>\n      <td>173</td>\n      <td>13.71</td>\n      <td>5.65</td>\n      <td>2.45</td>\n      <td>20.5</td>\n      <td>95</td>\n      <td>1.68</td>\n      <td>0.61</td>\n      <td>0.52</td>\n      <td>1.06</td>\n      <td>7.70</td>\n      <td>0.64</td>\n      <td>1.74</td>\n      <td>740</td>\n    </tr>\n    <tr>\n      <th>173</th>\n      <td>174</td>\n      <td>13.40</td>\n      <td>3.91</td>\n      <td>2.48</td>\n      <td>23.0</td>\n      <td>102</td>\n      <td>1.80</td>\n      <td>0.75</td>\n      <td>0.43</td>\n      <td>1.41</td>\n      <td>7.30</td>\n      <td>0.70</td>\n      <td>1.56</td>\n      <td>750</td>\n    </tr>\n    <tr>\n      <th>174</th>\n      <td>175</td>\n      <td>13.27</td>\n      <td>4.28</td>\n      <td>2.26</td>\n      <td>20.0</td>\n      <td>120</td>\n      <td>1.59</td>\n      <td>0.69</td>\n      <td>0.43</td>\n      <td>1.35</td>\n      <td>10.20</td>\n      <td>0.59</td>\n      <td>1.56</td>\n      <td>835</td>\n    </tr>\n    <tr>\n      <th>175</th>\n      <td>176</td>\n      <td>13.17</td>\n      <td>2.59</td>\n      <td>2.37</td>\n      <td>20.0</td>\n      <td>120</td>\n      <td>1.65</td>\n      <td>0.68</td>\n      <td>0.53</td>\n      <td>1.46</td>\n      <td>9.30</td>\n      <td>0.60</td>\n      <td>1.62</td>\n      <td>840</td>\n    </tr>\n    <tr>\n      <th>176</th>\n      <td>177</td>\n      <td>14.13</td>\n      <td>4.10</td>\n      <td>2.74</td>\n      <td>24.5</td>\n      <td>96</td>\n      <td>2.05</td>\n      <td>0.76</td>\n      <td>0.56</td>\n      <td>1.35</td>\n      <td>9.20</td>\n      <td>0.61</td>\n      <td>1.60</td>\n      <td>560</td>\n    </tr>\n  </tbody>\n</table>\n<p>177 rows × 14 columns</p>\n</div>"
     },
     "metadata": {},
     "execution_count": 2
    }
   ],
   "source": [
    "df1 = pd.read_csv('wines.csv')\n",
    "df1"
   ]
  },
  {
   "cell_type": "code",
   "execution_count": 3,
   "metadata": {},
   "outputs": [
    {
     "output_type": "execute_result",
     "data": {
      "text/plain": [
       "     Unnamed: 0        x\n",
       "0             1   Barolo\n",
       "1             2   Barolo\n",
       "2             3   Barolo\n",
       "3             4   Barolo\n",
       "4             5   Barolo\n",
       "..          ...      ...\n",
       "172         173  Barbera\n",
       "173         174  Barbera\n",
       "174         175  Barbera\n",
       "175         176  Barbera\n",
       "176         177  Barbera\n",
       "\n",
       "[177 rows x 2 columns]"
      ],
      "text/html": "<div>\n<style scoped>\n    .dataframe tbody tr th:only-of-type {\n        vertical-align: middle;\n    }\n\n    .dataframe tbody tr th {\n        vertical-align: top;\n    }\n\n    .dataframe thead th {\n        text-align: right;\n    }\n</style>\n<table border=\"1\" class=\"dataframe\">\n  <thead>\n    <tr style=\"text-align: right;\">\n      <th></th>\n      <th>Unnamed: 0</th>\n      <th>x</th>\n    </tr>\n  </thead>\n  <tbody>\n    <tr>\n      <th>0</th>\n      <td>1</td>\n      <td>Barolo</td>\n    </tr>\n    <tr>\n      <th>1</th>\n      <td>2</td>\n      <td>Barolo</td>\n    </tr>\n    <tr>\n      <th>2</th>\n      <td>3</td>\n      <td>Barolo</td>\n    </tr>\n    <tr>\n      <th>3</th>\n      <td>4</td>\n      <td>Barolo</td>\n    </tr>\n    <tr>\n      <th>4</th>\n      <td>5</td>\n      <td>Barolo</td>\n    </tr>\n    <tr>\n      <th>...</th>\n      <td>...</td>\n      <td>...</td>\n    </tr>\n    <tr>\n      <th>172</th>\n      <td>173</td>\n      <td>Barbera</td>\n    </tr>\n    <tr>\n      <th>173</th>\n      <td>174</td>\n      <td>Barbera</td>\n    </tr>\n    <tr>\n      <th>174</th>\n      <td>175</td>\n      <td>Barbera</td>\n    </tr>\n    <tr>\n      <th>175</th>\n      <td>176</td>\n      <td>Barbera</td>\n    </tr>\n    <tr>\n      <th>176</th>\n      <td>177</td>\n      <td>Barbera</td>\n    </tr>\n  </tbody>\n</table>\n<p>177 rows × 2 columns</p>\n</div>"
     },
     "metadata": {},
     "execution_count": 3
    }
   ],
   "source": [
    "df2 = pd.read_csv('wines_labels.csv')\n",
    "df2"
   ]
  },
  {
   "cell_type": "markdown",
   "metadata": {},
   "source": [
    "2 - Explora o dataset, indicando:\n",
    " * o número de amostras e atributos, \n",
    " * tipos de dados, \n",
    " * se há valores em falta,\n",
    " * principais estatísticas sobre cada variável dos dados (média, mediana, quartis, ...)"
   ]
  },
  {
   "cell_type": "code",
   "execution_count": 4,
   "metadata": {},
   "outputs": [
    {
     "output_type": "stream",
     "name": "stdout",
     "text": [
      "Dataset wines.csv\n\n- data dimensions:\n\n177 samples, 14 atributes\n\n- data types:\n\nUnnamed: 0             int64\nalcohol              float64\nmalic acid           float64\nash                  float64\nash alkalinity       float64\nmagnesium              int64\ntot. phenols         float64\nflavonoids           float64\nnon-flav. phenols    float64\nproanth              float64\ncol. int.            float64\ncol. hue             float64\nOD ratio             float64\nproline                int64\ndtype: object\n\n- missing values:\n\nUnnamed: 0           0\nalcohol              0\nmalic acid           0\nash                  0\nash alkalinity       0\nmagnesium            0\ntot. phenols         0\nflavonoids           0\nnon-flav. phenols    0\nproanth              0\ncol. int.            0\ncol. hue             0\nOD ratio             0\nproline              0\ndtype: int64\n\n- statistics:\n"
     ]
    },
    {
     "output_type": "execute_result",
     "data": {
      "text/plain": [
       "       Unnamed: 0     alcohol  malic acid         ash  ash alkalinity  \\\n",
       "count  177.000000  177.000000  177.000000  177.000000      177.000000   \n",
       "mean    89.000000   12.993672    2.339887    2.366158       19.516949   \n",
       "std     51.239633    0.808808    1.119314    0.275080        3.336071   \n",
       "min      1.000000   11.030000    0.740000    1.360000       10.600000   \n",
       "25%     45.000000   12.360000    1.600000    2.210000       17.200000   \n",
       "50%     89.000000   13.050000    1.870000    2.360000       19.500000   \n",
       "75%    133.000000   13.670000    3.100000    2.560000       21.500000   \n",
       "max    177.000000   14.830000    5.800000    3.230000       30.000000   \n",
       "\n",
       "        magnesium  tot. phenols  flavonoids  non-flav. phenols     proanth  \\\n",
       "count  177.000000    177.000000  177.000000         177.000000  177.000000   \n",
       "mean    99.587571      2.292260    2.023446           0.362316    1.586949   \n",
       "std     14.174018      0.626465    0.998658           0.124653    0.571545   \n",
       "min     70.000000      0.980000    0.340000           0.130000    0.410000   \n",
       "25%     88.000000      1.740000    1.200000           0.270000    1.250000   \n",
       "50%     98.000000      2.350000    2.130000           0.340000    1.550000   \n",
       "75%    107.000000      2.800000    2.860000           0.440000    1.950000   \n",
       "max    162.000000      3.880000    5.080000           0.660000    3.580000   \n",
       "\n",
       "        col. int.    col. hue    OD ratio      proline  \n",
       "count  177.000000  177.000000  177.000000   177.000000  \n",
       "mean     5.054802    0.956983    2.604294   745.096045  \n",
       "std      2.324446    0.229135    0.705103   314.884046  \n",
       "min      1.280000    0.480000    1.270000   278.000000  \n",
       "25%      3.210000    0.780000    1.930000   500.000000  \n",
       "50%      4.680000    0.960000    2.780000   672.000000  \n",
       "75%      6.200000    1.120000    3.170000   985.000000  \n",
       "max     13.000000    1.710000    4.000000  1680.000000  "
      ],
      "text/html": "<div>\n<style scoped>\n    .dataframe tbody tr th:only-of-type {\n        vertical-align: middle;\n    }\n\n    .dataframe tbody tr th {\n        vertical-align: top;\n    }\n\n    .dataframe thead th {\n        text-align: right;\n    }\n</style>\n<table border=\"1\" class=\"dataframe\">\n  <thead>\n    <tr style=\"text-align: right;\">\n      <th></th>\n      <th>Unnamed: 0</th>\n      <th>alcohol</th>\n      <th>malic acid</th>\n      <th>ash</th>\n      <th>ash alkalinity</th>\n      <th>magnesium</th>\n      <th>tot. phenols</th>\n      <th>flavonoids</th>\n      <th>non-flav. phenols</th>\n      <th>proanth</th>\n      <th>col. int.</th>\n      <th>col. hue</th>\n      <th>OD ratio</th>\n      <th>proline</th>\n    </tr>\n  </thead>\n  <tbody>\n    <tr>\n      <th>count</th>\n      <td>177.000000</td>\n      <td>177.000000</td>\n      <td>177.000000</td>\n      <td>177.000000</td>\n      <td>177.000000</td>\n      <td>177.000000</td>\n      <td>177.000000</td>\n      <td>177.000000</td>\n      <td>177.000000</td>\n      <td>177.000000</td>\n      <td>177.000000</td>\n      <td>177.000000</td>\n      <td>177.000000</td>\n      <td>177.000000</td>\n    </tr>\n    <tr>\n      <th>mean</th>\n      <td>89.000000</td>\n      <td>12.993672</td>\n      <td>2.339887</td>\n      <td>2.366158</td>\n      <td>19.516949</td>\n      <td>99.587571</td>\n      <td>2.292260</td>\n      <td>2.023446</td>\n      <td>0.362316</td>\n      <td>1.586949</td>\n      <td>5.054802</td>\n      <td>0.956983</td>\n      <td>2.604294</td>\n      <td>745.096045</td>\n    </tr>\n    <tr>\n      <th>std</th>\n      <td>51.239633</td>\n      <td>0.808808</td>\n      <td>1.119314</td>\n      <td>0.275080</td>\n      <td>3.336071</td>\n      <td>14.174018</td>\n      <td>0.626465</td>\n      <td>0.998658</td>\n      <td>0.124653</td>\n      <td>0.571545</td>\n      <td>2.324446</td>\n      <td>0.229135</td>\n      <td>0.705103</td>\n      <td>314.884046</td>\n    </tr>\n    <tr>\n      <th>min</th>\n      <td>1.000000</td>\n      <td>11.030000</td>\n      <td>0.740000</td>\n      <td>1.360000</td>\n      <td>10.600000</td>\n      <td>70.000000</td>\n      <td>0.980000</td>\n      <td>0.340000</td>\n      <td>0.130000</td>\n      <td>0.410000</td>\n      <td>1.280000</td>\n      <td>0.480000</td>\n      <td>1.270000</td>\n      <td>278.000000</td>\n    </tr>\n    <tr>\n      <th>25%</th>\n      <td>45.000000</td>\n      <td>12.360000</td>\n      <td>1.600000</td>\n      <td>2.210000</td>\n      <td>17.200000</td>\n      <td>88.000000</td>\n      <td>1.740000</td>\n      <td>1.200000</td>\n      <td>0.270000</td>\n      <td>1.250000</td>\n      <td>3.210000</td>\n      <td>0.780000</td>\n      <td>1.930000</td>\n      <td>500.000000</td>\n    </tr>\n    <tr>\n      <th>50%</th>\n      <td>89.000000</td>\n      <td>13.050000</td>\n      <td>1.870000</td>\n      <td>2.360000</td>\n      <td>19.500000</td>\n      <td>98.000000</td>\n      <td>2.350000</td>\n      <td>2.130000</td>\n      <td>0.340000</td>\n      <td>1.550000</td>\n      <td>4.680000</td>\n      <td>0.960000</td>\n      <td>2.780000</td>\n      <td>672.000000</td>\n    </tr>\n    <tr>\n      <th>75%</th>\n      <td>133.000000</td>\n      <td>13.670000</td>\n      <td>3.100000</td>\n      <td>2.560000</td>\n      <td>21.500000</td>\n      <td>107.000000</td>\n      <td>2.800000</td>\n      <td>2.860000</td>\n      <td>0.440000</td>\n      <td>1.950000</td>\n      <td>6.200000</td>\n      <td>1.120000</td>\n      <td>3.170000</td>\n      <td>985.000000</td>\n    </tr>\n    <tr>\n      <th>max</th>\n      <td>177.000000</td>\n      <td>14.830000</td>\n      <td>5.800000</td>\n      <td>3.230000</td>\n      <td>30.000000</td>\n      <td>162.000000</td>\n      <td>3.880000</td>\n      <td>5.080000</td>\n      <td>0.660000</td>\n      <td>3.580000</td>\n      <td>13.000000</td>\n      <td>1.710000</td>\n      <td>4.000000</td>\n      <td>1680.000000</td>\n    </tr>\n  </tbody>\n</table>\n</div>"
     },
     "metadata": {},
     "execution_count": 4
    }
   ],
   "source": [
    "print('Dataset wines.csv\\n')\n",
    "print('- data dimensions:\\n')\n",
    "print(str(df1.shape[0]) + ' samples, ' + str(df1.shape[1]) + ' atributes\\n')\n",
    "print('- data types:\\n')\n",
    "print(df1.dtypes)\n",
    "print('\\n- missing values:\\n')\n",
    "print(df1.isnull().sum())\n",
    "print('\\n- statistics:')\n",
    "df1.describe()"
   ]
  },
  {
   "cell_type": "code",
   "execution_count": 5,
   "metadata": {},
   "outputs": [
    {
     "output_type": "stream",
     "name": "stdout",
     "text": [
      "Dataset wines_labels.csv\n\n- data dimensions:\n\n177 samples, 2 atributes\n\n- data types:\n\nUnnamed: 0     int64\nx             object\ndtype: object\n\n- missing values:\n\nUnnamed: 0    0\nx             0\ndtype: int64\n\n- statistics:\n"
     ]
    },
    {
     "output_type": "execute_result",
     "data": {
      "text/plain": [
       "       Unnamed: 0\n",
       "count  177.000000\n",
       "mean    89.000000\n",
       "std     51.239633\n",
       "min      1.000000\n",
       "25%     45.000000\n",
       "50%     89.000000\n",
       "75%    133.000000\n",
       "max    177.000000"
      ],
      "text/html": "<div>\n<style scoped>\n    .dataframe tbody tr th:only-of-type {\n        vertical-align: middle;\n    }\n\n    .dataframe tbody tr th {\n        vertical-align: top;\n    }\n\n    .dataframe thead th {\n        text-align: right;\n    }\n</style>\n<table border=\"1\" class=\"dataframe\">\n  <thead>\n    <tr style=\"text-align: right;\">\n      <th></th>\n      <th>Unnamed: 0</th>\n    </tr>\n  </thead>\n  <tbody>\n    <tr>\n      <th>count</th>\n      <td>177.000000</td>\n    </tr>\n    <tr>\n      <th>mean</th>\n      <td>89.000000</td>\n    </tr>\n    <tr>\n      <th>std</th>\n      <td>51.239633</td>\n    </tr>\n    <tr>\n      <th>min</th>\n      <td>1.000000</td>\n    </tr>\n    <tr>\n      <th>25%</th>\n      <td>45.000000</td>\n    </tr>\n    <tr>\n      <th>50%</th>\n      <td>89.000000</td>\n    </tr>\n    <tr>\n      <th>75%</th>\n      <td>133.000000</td>\n    </tr>\n    <tr>\n      <th>max</th>\n      <td>177.000000</td>\n    </tr>\n  </tbody>\n</table>\n</div>"
     },
     "metadata": {},
     "execution_count": 5
    }
   ],
   "source": [
    "print('Dataset wines_labels.csv\\n')\n",
    "print('- data dimensions:\\n')\n",
    "print(str(df2.shape[0]) + ' samples, ' + str(df2.shape[1]) + ' atributes\\n')\n",
    "print('- data types:\\n')\n",
    "print(df2.dtypes)\n",
    "print('\\n- missing values:\\n')\n",
    "print(df2.isnull().sum())\n",
    "print('\\n- statistics:')\n",
    "df2.describe()"
   ]
  },
  {
   "cell_type": "markdown",
   "metadata": {},
   "source": [
    "3- Cria sub-conjuntos do dataset original contendo apenas os dados de cada uma das classes."
   ]
  },
  {
   "cell_type": "code",
   "execution_count": 23,
   "metadata": {},
   "outputs": [],
   "source": [
    "df = pd.concat([df1, df2])\n",
    "df_barolo = df1[df2['x'] == 'Barolo']\n",
    "df_barbera = df1[df2['x'] == 'Barbera']"
   ]
  },
  {
   "cell_type": "markdown",
   "metadata": {},
   "source": [
    "4 - Verifica se as amostras provenientes das classes \"Barolo\" e \"Barbera\" têm níveis de alcool significativamente diferentes. De forma a determinar que tipo de teste estatístico usar, determina se os grupos de valores a comparar seguem ou não a distribuição normal (e.g. usando o teste de Shapiro)."
   ]
  },
  {
   "cell_type": "code",
   "execution_count": 26,
   "metadata": {},
   "outputs": [
    {
     "output_type": "stream",
     "name": "stdout",
     "text": [
      "ShapiroResult(statistic=0.981652021408081, pvalue=0.5255285501480103)\nShapiroResult(statistic=0.981467604637146, pvalue=0.6408376097679138)\n"
     ]
    },
    {
     "output_type": "execute_result",
     "data": {
      "text/plain": [
       "Ttest_indResult(statistic=6.046516305087218, pvalue=2.3479977832012858e-08)"
      ]
     },
     "metadata": {},
     "execution_count": 26
    }
   ],
   "source": [
    "# normality of data by group\n",
    "print(stats.shapiro(df_barolo['alcohol']))\n",
    "print(stats.shapiro(df_barbera['alcohol']))\n",
    "# p-values > 0.05, HO: the data follows a normal distribution, not rejected\n",
    "\n",
    "stats.ttest_ind(df_barolo['alcohol'], df_barbera['alcohol'])\n",
    "# HO not rejected, diferent values"
   ]
  },
  {
   "cell_type": "markdown",
   "metadata": {},
   "source": [
    "5 - Efectua uma análise semelhante à anterior mas considerando também a classe “Grignolino”. "
   ]
  },
  {
   "cell_type": "code",
   "execution_count": 33,
   "metadata": {},
   "outputs": [
    {
     "output_type": "stream",
     "name": "stdout",
     "text": [
      "             df     sum_sq    mean_sq           F        PR(>F)\nmydata.x    2.0  69.514462  34.757231  132.569148  1.050680e-35\nResidual  174.0  45.619651   0.262182         NaN           NaN\n\n---\n\n  Multiple Comparison of Means - Tukey HSD, FWER=0.05   \n========================================================\n group1   group2   meandiff p-adj  lower   upper  reject\n--------------------------------------------------------\nBarbera     Barolo   0.5826 0.001  0.3464  0.8188   True\nBarbera Grignolino   -0.875 0.001 -1.1012 -0.6488   True\n Barolo Grignolino  -1.4576 0.001 -1.6719 -1.2434   True\n--------------------------------------------------------\n"
     ]
    }
   ],
   "source": [
    "from statsmodels.formula.api import ols\n",
    "from statsmodels.stats.anova import anova_lm\n",
    "import statsmodels.stats.multicomp as multi\n",
    "\n",
    "mydata = df1.join(df2['x'])\n",
    "lm = ols(\"mydata.alcohol~mydata.x\", mydata).fit()\n",
    "\n",
    "print(anova_lm(lm))\n",
    "# p_value < 0.05, reject HO\n",
    "\n",
    "print('\\n---\\n')\n",
    "\n",
    "mc = multi.MultiComparison(mydata.alcohol, mydata.x)\n",
    "results = mc.tukeyhsd()\n",
    "print(results)"
   ]
  },
  {
   "cell_type": "markdown",
   "metadata": {},
   "source": [
    "6- Representa graficamente os dados usados na questão anterior para uma análise gráfica da mesma questão (recomenda-se o uso de boxplots)."
   ]
  },
  {
   "cell_type": "code",
   "execution_count": 35,
   "metadata": {},
   "outputs": [
    {
     "output_type": "display_data",
     "data": {
      "text/plain": "<Figure size 432x288 with 1 Axes>",
      "image/svg+xml": "<?xml version=\"1.0\" encoding=\"utf-8\" standalone=\"no\"?>\n<!DOCTYPE svg PUBLIC \"-//W3C//DTD SVG 1.1//EN\"\n  \"http://www.w3.org/Graphics/SVG/1.1/DTD/svg11.dtd\">\n<!-- Created with matplotlib (https://matplotlib.org/) -->\n<svg height=\"251.276961pt\" version=\"1.1\" viewBox=\"0 0 378.465625 251.276961\" width=\"378.465625pt\" xmlns=\"http://www.w3.org/2000/svg\" xmlns:xlink=\"http://www.w3.org/1999/xlink\">\n <metadata>\n  <rdf:RDF xmlns:cc=\"http://creativecommons.org/ns#\" xmlns:dc=\"http://purl.org/dc/elements/1.1/\" xmlns:rdf=\"http://www.w3.org/1999/02/22-rdf-syntax-ns#\">\n   <cc:Work>\n    <dc:type rdf:resource=\"http://purl.org/dc/dcmitype/StillImage\"/>\n    <dc:date>2021-03-13T16:17:45.623704</dc:date>\n    <dc:format>image/svg+xml</dc:format>\n    <dc:creator>\n     <cc:Agent>\n      <dc:title>Matplotlib v3.3.4, https://matplotlib.org/</dc:title>\n     </cc:Agent>\n    </dc:creator>\n   </cc:Work>\n  </rdf:RDF>\n </metadata>\n <defs>\n  <style type=\"text/css\">*{stroke-linecap:butt;stroke-linejoin:round;}</style>\n </defs>\n <g id=\"figure_1\">\n  <g id=\"patch_1\">\n   <path d=\"M 0 251.276961 \nL 378.465625 251.276961 \nL 378.465625 0 \nL 0 0 \nz\n\" style=\"fill:none;\"/>\n  </g>\n  <g id=\"axes_1\">\n   <g id=\"patch_2\">\n    <path d=\"M 36.465625 227.398836 \nL 371.265625 227.398836 \nL 371.265625 9.958836 \nL 36.465625 9.958836 \nz\n\" style=\"fill:#ffffff;\"/>\n   </g>\n   <g id=\"matplotlib.axis_1\">\n    <g id=\"xtick_1\">\n     <g id=\"line2d_1\">\n      <defs>\n       <path d=\"M 0 0 \nL 0 3.5 \n\" id=\"m4287c57bd0\" style=\"stroke:#000000;stroke-width:0.8;\"/>\n      </defs>\n      <g>\n       <use style=\"stroke:#000000;stroke-width:0.8;\" x=\"92.265625\" xlink:href=\"#m4287c57bd0\" y=\"227.398836\"/>\n      </g>\n     </g>\n     <g id=\"text_1\">\n      <!-- Barolo -->\n      <g transform=\"translate(76.320312 241.997273)scale(0.1 -0.1)\">\n       <defs>\n        <path d=\"M 19.671875 34.8125 \nL 19.671875 8.109375 \nL 35.5 8.109375 \nQ 43.453125 8.109375 47.28125 11.40625 \nQ 51.125 14.703125 51.125 21.484375 \nQ 51.125 28.328125 47.28125 31.5625 \nQ 43.453125 34.8125 35.5 34.8125 \nz\nM 19.671875 64.796875 \nL 19.671875 42.828125 \nL 34.28125 42.828125 \nQ 41.5 42.828125 45.03125 45.53125 \nQ 48.578125 48.25 48.578125 53.8125 \nQ 48.578125 59.328125 45.03125 62.0625 \nQ 41.5 64.796875 34.28125 64.796875 \nz\nM 9.8125 72.90625 \nL 35.015625 72.90625 \nQ 46.296875 72.90625 52.390625 68.21875 \nQ 58.5 63.53125 58.5 54.890625 \nQ 58.5 48.1875 55.375 44.234375 \nQ 52.25 40.28125 46.1875 39.3125 \nQ 53.46875 37.75 57.5 32.78125 \nQ 61.53125 27.828125 61.53125 20.40625 \nQ 61.53125 10.640625 54.890625 5.3125 \nQ 48.25 0 35.984375 0 \nL 9.8125 0 \nz\n\" id=\"DejaVuSans-66\"/>\n        <path d=\"M 34.28125 27.484375 \nQ 23.390625 27.484375 19.1875 25 \nQ 14.984375 22.515625 14.984375 16.5 \nQ 14.984375 11.71875 18.140625 8.90625 \nQ 21.296875 6.109375 26.703125 6.109375 \nQ 34.1875 6.109375 38.703125 11.40625 \nQ 43.21875 16.703125 43.21875 25.484375 \nL 43.21875 27.484375 \nz\nM 52.203125 31.203125 \nL 52.203125 0 \nL 43.21875 0 \nL 43.21875 8.296875 \nQ 40.140625 3.328125 35.546875 0.953125 \nQ 30.953125 -1.421875 24.3125 -1.421875 \nQ 15.921875 -1.421875 10.953125 3.296875 \nQ 6 8.015625 6 15.921875 \nQ 6 25.140625 12.171875 29.828125 \nQ 18.359375 34.515625 30.609375 34.515625 \nL 43.21875 34.515625 \nL 43.21875 35.40625 \nQ 43.21875 41.609375 39.140625 45 \nQ 35.0625 48.390625 27.6875 48.390625 \nQ 23 48.390625 18.546875 47.265625 \nQ 14.109375 46.140625 10.015625 43.890625 \nL 10.015625 52.203125 \nQ 14.9375 54.109375 19.578125 55.046875 \nQ 24.21875 56 28.609375 56 \nQ 40.484375 56 46.34375 49.84375 \nQ 52.203125 43.703125 52.203125 31.203125 \nz\n\" id=\"DejaVuSans-97\"/>\n        <path d=\"M 41.109375 46.296875 \nQ 39.59375 47.171875 37.8125 47.578125 \nQ 36.03125 48 33.890625 48 \nQ 26.265625 48 22.1875 43.046875 \nQ 18.109375 38.09375 18.109375 28.8125 \nL 18.109375 0 \nL 9.078125 0 \nL 9.078125 54.6875 \nL 18.109375 54.6875 \nL 18.109375 46.1875 \nQ 20.953125 51.171875 25.484375 53.578125 \nQ 30.03125 56 36.53125 56 \nQ 37.453125 56 38.578125 55.875 \nQ 39.703125 55.765625 41.0625 55.515625 \nz\n\" id=\"DejaVuSans-114\"/>\n        <path d=\"M 30.609375 48.390625 \nQ 23.390625 48.390625 19.1875 42.75 \nQ 14.984375 37.109375 14.984375 27.296875 \nQ 14.984375 17.484375 19.15625 11.84375 \nQ 23.34375 6.203125 30.609375 6.203125 \nQ 37.796875 6.203125 41.984375 11.859375 \nQ 46.1875 17.53125 46.1875 27.296875 \nQ 46.1875 37.015625 41.984375 42.703125 \nQ 37.796875 48.390625 30.609375 48.390625 \nz\nM 30.609375 56 \nQ 42.328125 56 49.015625 48.375 \nQ 55.71875 40.765625 55.71875 27.296875 \nQ 55.71875 13.875 49.015625 6.21875 \nQ 42.328125 -1.421875 30.609375 -1.421875 \nQ 18.84375 -1.421875 12.171875 6.21875 \nQ 5.515625 13.875 5.515625 27.296875 \nQ 5.515625 40.765625 12.171875 48.375 \nQ 18.84375 56 30.609375 56 \nz\n\" id=\"DejaVuSans-111\"/>\n        <path d=\"M 9.421875 75.984375 \nL 18.40625 75.984375 \nL 18.40625 0 \nL 9.421875 0 \nz\n\" id=\"DejaVuSans-108\"/>\n       </defs>\n       <use xlink:href=\"#DejaVuSans-66\"/>\n       <use x=\"68.603516\" xlink:href=\"#DejaVuSans-97\"/>\n       <use x=\"129.882812\" xlink:href=\"#DejaVuSans-114\"/>\n       <use x=\"168.746094\" xlink:href=\"#DejaVuSans-111\"/>\n       <use x=\"229.927734\" xlink:href=\"#DejaVuSans-108\"/>\n       <use x=\"257.710938\" xlink:href=\"#DejaVuSans-111\"/>\n      </g>\n     </g>\n    </g>\n    <g id=\"xtick_2\">\n     <g id=\"line2d_2\">\n      <g>\n       <use style=\"stroke:#000000;stroke-width:0.8;\" x=\"203.865625\" xlink:href=\"#m4287c57bd0\" y=\"227.398836\"/>\n      </g>\n     </g>\n     <g id=\"text_2\">\n      <!-- Barbera -->\n      <g transform=\"translate(183.945312 241.997273)scale(0.1 -0.1)\">\n       <defs>\n        <path d=\"M 48.6875 27.296875 \nQ 48.6875 37.203125 44.609375 42.84375 \nQ 40.53125 48.484375 33.40625 48.484375 \nQ 26.265625 48.484375 22.1875 42.84375 \nQ 18.109375 37.203125 18.109375 27.296875 \nQ 18.109375 17.390625 22.1875 11.75 \nQ 26.265625 6.109375 33.40625 6.109375 \nQ 40.53125 6.109375 44.609375 11.75 \nQ 48.6875 17.390625 48.6875 27.296875 \nz\nM 18.109375 46.390625 \nQ 20.953125 51.265625 25.265625 53.625 \nQ 29.59375 56 35.59375 56 \nQ 45.5625 56 51.78125 48.09375 \nQ 58.015625 40.1875 58.015625 27.296875 \nQ 58.015625 14.40625 51.78125 6.484375 \nQ 45.5625 -1.421875 35.59375 -1.421875 \nQ 29.59375 -1.421875 25.265625 0.953125 \nQ 20.953125 3.328125 18.109375 8.203125 \nL 18.109375 0 \nL 9.078125 0 \nL 9.078125 75.984375 \nL 18.109375 75.984375 \nz\n\" id=\"DejaVuSans-98\"/>\n        <path d=\"M 56.203125 29.59375 \nL 56.203125 25.203125 \nL 14.890625 25.203125 \nQ 15.484375 15.921875 20.484375 11.0625 \nQ 25.484375 6.203125 34.421875 6.203125 \nQ 39.59375 6.203125 44.453125 7.46875 \nQ 49.3125 8.734375 54.109375 11.28125 \nL 54.109375 2.78125 \nQ 49.265625 0.734375 44.1875 -0.34375 \nQ 39.109375 -1.421875 33.890625 -1.421875 \nQ 20.796875 -1.421875 13.15625 6.1875 \nQ 5.515625 13.8125 5.515625 26.8125 \nQ 5.515625 40.234375 12.765625 48.109375 \nQ 20.015625 56 32.328125 56 \nQ 43.359375 56 49.78125 48.890625 \nQ 56.203125 41.796875 56.203125 29.59375 \nz\nM 47.21875 32.234375 \nQ 47.125 39.59375 43.09375 43.984375 \nQ 39.0625 48.390625 32.421875 48.390625 \nQ 24.90625 48.390625 20.390625 44.140625 \nQ 15.875 39.890625 15.1875 32.171875 \nz\n\" id=\"DejaVuSans-101\"/>\n       </defs>\n       <use xlink:href=\"#DejaVuSans-66\"/>\n       <use x=\"68.603516\" xlink:href=\"#DejaVuSans-97\"/>\n       <use x=\"129.882812\" xlink:href=\"#DejaVuSans-114\"/>\n       <use x=\"170.996094\" xlink:href=\"#DejaVuSans-98\"/>\n       <use x=\"234.472656\" xlink:href=\"#DejaVuSans-101\"/>\n       <use x=\"295.996094\" xlink:href=\"#DejaVuSans-114\"/>\n       <use x=\"337.109375\" xlink:href=\"#DejaVuSans-97\"/>\n      </g>\n     </g>\n    </g>\n    <g id=\"xtick_3\">\n     <g id=\"line2d_3\">\n      <g>\n       <use style=\"stroke:#000000;stroke-width:0.8;\" x=\"315.465625\" xlink:href=\"#m4287c57bd0\" y=\"227.398836\"/>\n      </g>\n     </g>\n     <g id=\"text_3\">\n      <!-- Grignolino -->\n      <g transform=\"translate(289.738281 241.997273)scale(0.1 -0.1)\">\n       <defs>\n        <path d=\"M 59.515625 10.40625 \nL 59.515625 29.984375 \nL 43.40625 29.984375 \nL 43.40625 38.09375 \nL 69.28125 38.09375 \nL 69.28125 6.78125 \nQ 63.578125 2.734375 56.6875 0.65625 \nQ 49.8125 -1.421875 42 -1.421875 \nQ 24.90625 -1.421875 15.25 8.5625 \nQ 5.609375 18.5625 5.609375 36.375 \nQ 5.609375 54.25 15.25 64.234375 \nQ 24.90625 74.21875 42 74.21875 \nQ 49.125 74.21875 55.546875 72.453125 \nQ 61.96875 70.703125 67.390625 67.28125 \nL 67.390625 56.78125 \nQ 61.921875 61.421875 55.765625 63.765625 \nQ 49.609375 66.109375 42.828125 66.109375 \nQ 29.4375 66.109375 22.71875 58.640625 \nQ 16.015625 51.171875 16.015625 36.375 \nQ 16.015625 21.625 22.71875 14.15625 \nQ 29.4375 6.6875 42.828125 6.6875 \nQ 48.046875 6.6875 52.140625 7.59375 \nQ 56.25 8.5 59.515625 10.40625 \nz\n\" id=\"DejaVuSans-71\"/>\n        <path d=\"M 9.421875 54.6875 \nL 18.40625 54.6875 \nL 18.40625 0 \nL 9.421875 0 \nz\nM 9.421875 75.984375 \nL 18.40625 75.984375 \nL 18.40625 64.59375 \nL 9.421875 64.59375 \nz\n\" id=\"DejaVuSans-105\"/>\n        <path d=\"M 45.40625 27.984375 \nQ 45.40625 37.75 41.375 43.109375 \nQ 37.359375 48.484375 30.078125 48.484375 \nQ 22.859375 48.484375 18.828125 43.109375 \nQ 14.796875 37.75 14.796875 27.984375 \nQ 14.796875 18.265625 18.828125 12.890625 \nQ 22.859375 7.515625 30.078125 7.515625 \nQ 37.359375 7.515625 41.375 12.890625 \nQ 45.40625 18.265625 45.40625 27.984375 \nz\nM 54.390625 6.78125 \nQ 54.390625 -7.171875 48.1875 -13.984375 \nQ 42 -20.796875 29.203125 -20.796875 \nQ 24.46875 -20.796875 20.265625 -20.09375 \nQ 16.0625 -19.390625 12.109375 -17.921875 \nL 12.109375 -9.1875 \nQ 16.0625 -11.328125 19.921875 -12.34375 \nQ 23.78125 -13.375 27.78125 -13.375 \nQ 36.625 -13.375 41.015625 -8.765625 \nQ 45.40625 -4.15625 45.40625 5.171875 \nL 45.40625 9.625 \nQ 42.625 4.78125 38.28125 2.390625 \nQ 33.9375 0 27.875 0 \nQ 17.828125 0 11.671875 7.65625 \nQ 5.515625 15.328125 5.515625 27.984375 \nQ 5.515625 40.671875 11.671875 48.328125 \nQ 17.828125 56 27.875 56 \nQ 33.9375 56 38.28125 53.609375 \nQ 42.625 51.21875 45.40625 46.390625 \nL 45.40625 54.6875 \nL 54.390625 54.6875 \nz\n\" id=\"DejaVuSans-103\"/>\n        <path d=\"M 54.890625 33.015625 \nL 54.890625 0 \nL 45.90625 0 \nL 45.90625 32.71875 \nQ 45.90625 40.484375 42.875 44.328125 \nQ 39.84375 48.1875 33.796875 48.1875 \nQ 26.515625 48.1875 22.3125 43.546875 \nQ 18.109375 38.921875 18.109375 30.90625 \nL 18.109375 0 \nL 9.078125 0 \nL 9.078125 54.6875 \nL 18.109375 54.6875 \nL 18.109375 46.1875 \nQ 21.34375 51.125 25.703125 53.5625 \nQ 30.078125 56 35.796875 56 \nQ 45.21875 56 50.046875 50.171875 \nQ 54.890625 44.34375 54.890625 33.015625 \nz\n\" id=\"DejaVuSans-110\"/>\n       </defs>\n       <use xlink:href=\"#DejaVuSans-71\"/>\n       <use x=\"77.490234\" xlink:href=\"#DejaVuSans-114\"/>\n       <use x=\"118.603516\" xlink:href=\"#DejaVuSans-105\"/>\n       <use x=\"146.386719\" xlink:href=\"#DejaVuSans-103\"/>\n       <use x=\"209.863281\" xlink:href=\"#DejaVuSans-110\"/>\n       <use x=\"273.242188\" xlink:href=\"#DejaVuSans-111\"/>\n       <use x=\"334.423828\" xlink:href=\"#DejaVuSans-108\"/>\n       <use x=\"362.207031\" xlink:href=\"#DejaVuSans-105\"/>\n       <use x=\"389.990234\" xlink:href=\"#DejaVuSans-110\"/>\n       <use x=\"453.369141\" xlink:href=\"#DejaVuSans-111\"/>\n      </g>\n     </g>\n    </g>\n   </g>\n   <g id=\"matplotlib.axis_2\">\n    <g id=\"ytick_1\">\n     <g id=\"line2d_4\">\n      <defs>\n       <path d=\"M 0 0 \nL -3.5 0 \n\" id=\"m6509729951\" style=\"stroke:#000000;stroke-width:0.8;\"/>\n      </defs>\n      <g>\n       <use style=\"stroke:#000000;stroke-width:0.8;\" x=\"36.465625\" xlink:href=\"#m6509729951\" y=\"219.075774\"/>\n      </g>\n     </g>\n     <g id=\"text_4\">\n      <!-- 11.0 -->\n      <g transform=\"translate(7.2 222.874993)scale(0.1 -0.1)\">\n       <defs>\n        <path d=\"M 12.40625 8.296875 \nL 28.515625 8.296875 \nL 28.515625 63.921875 \nL 10.984375 60.40625 \nL 10.984375 69.390625 \nL 28.421875 72.90625 \nL 38.28125 72.90625 \nL 38.28125 8.296875 \nL 54.390625 8.296875 \nL 54.390625 0 \nL 12.40625 0 \nz\n\" id=\"DejaVuSans-49\"/>\n        <path d=\"M 10.6875 12.40625 \nL 21 12.40625 \nL 21 0 \nL 10.6875 0 \nz\n\" id=\"DejaVuSans-46\"/>\n        <path d=\"M 31.78125 66.40625 \nQ 24.171875 66.40625 20.328125 58.90625 \nQ 16.5 51.421875 16.5 36.375 \nQ 16.5 21.390625 20.328125 13.890625 \nQ 24.171875 6.390625 31.78125 6.390625 \nQ 39.453125 6.390625 43.28125 13.890625 \nQ 47.125 21.390625 47.125 36.375 \nQ 47.125 51.421875 43.28125 58.90625 \nQ 39.453125 66.40625 31.78125 66.40625 \nz\nM 31.78125 74.21875 \nQ 44.046875 74.21875 50.515625 64.515625 \nQ 56.984375 54.828125 56.984375 36.375 \nQ 56.984375 17.96875 50.515625 8.265625 \nQ 44.046875 -1.421875 31.78125 -1.421875 \nQ 19.53125 -1.421875 13.0625 8.265625 \nQ 6.59375 17.96875 6.59375 36.375 \nQ 6.59375 54.828125 13.0625 64.515625 \nQ 19.53125 74.21875 31.78125 74.21875 \nz\n\" id=\"DejaVuSans-48\"/>\n       </defs>\n       <use xlink:href=\"#DejaVuSans-49\"/>\n       <use x=\"63.623047\" xlink:href=\"#DejaVuSans-49\"/>\n       <use x=\"127.246094\" xlink:href=\"#DejaVuSans-46\"/>\n       <use x=\"159.033203\" xlink:href=\"#DejaVuSans-48\"/>\n      </g>\n     </g>\n    </g>\n    <g id=\"ytick_2\">\n     <g id=\"line2d_5\">\n      <g>\n       <use style=\"stroke:#000000;stroke-width:0.8;\" x=\"36.465625\" xlink:href=\"#m6509729951\" y=\"193.066204\"/>\n      </g>\n     </g>\n     <g id=\"text_5\">\n      <!-- 11.5 -->\n      <g transform=\"translate(7.2 196.865423)scale(0.1 -0.1)\">\n       <defs>\n        <path d=\"M 10.796875 72.90625 \nL 49.515625 72.90625 \nL 49.515625 64.59375 \nL 19.828125 64.59375 \nL 19.828125 46.734375 \nQ 21.96875 47.46875 24.109375 47.828125 \nQ 26.265625 48.1875 28.421875 48.1875 \nQ 40.625 48.1875 47.75 41.5 \nQ 54.890625 34.8125 54.890625 23.390625 \nQ 54.890625 11.625 47.5625 5.09375 \nQ 40.234375 -1.421875 26.90625 -1.421875 \nQ 22.3125 -1.421875 17.546875 -0.640625 \nQ 12.796875 0.140625 7.71875 1.703125 \nL 7.71875 11.625 \nQ 12.109375 9.234375 16.796875 8.0625 \nQ 21.484375 6.890625 26.703125 6.890625 \nQ 35.15625 6.890625 40.078125 11.328125 \nQ 45.015625 15.765625 45.015625 23.390625 \nQ 45.015625 31 40.078125 35.4375 \nQ 35.15625 39.890625 26.703125 39.890625 \nQ 22.75 39.890625 18.8125 39.015625 \nQ 14.890625 38.140625 10.796875 36.28125 \nz\n\" id=\"DejaVuSans-53\"/>\n       </defs>\n       <use xlink:href=\"#DejaVuSans-49\"/>\n       <use x=\"63.623047\" xlink:href=\"#DejaVuSans-49\"/>\n       <use x=\"127.246094\" xlink:href=\"#DejaVuSans-46\"/>\n       <use x=\"159.033203\" xlink:href=\"#DejaVuSans-53\"/>\n      </g>\n     </g>\n    </g>\n    <g id=\"ytick_3\">\n     <g id=\"line2d_6\">\n      <g>\n       <use style=\"stroke:#000000;stroke-width:0.8;\" x=\"36.465625\" xlink:href=\"#m6509729951\" y=\"167.056635\"/>\n      </g>\n     </g>\n     <g id=\"text_6\">\n      <!-- 12.0 -->\n      <g transform=\"translate(7.2 170.855854)scale(0.1 -0.1)\">\n       <defs>\n        <path d=\"M 19.1875 8.296875 \nL 53.609375 8.296875 \nL 53.609375 0 \nL 7.328125 0 \nL 7.328125 8.296875 \nQ 12.9375 14.109375 22.625 23.890625 \nQ 32.328125 33.6875 34.8125 36.53125 \nQ 39.546875 41.84375 41.421875 45.53125 \nQ 43.3125 49.21875 43.3125 52.78125 \nQ 43.3125 58.59375 39.234375 62.25 \nQ 35.15625 65.921875 28.609375 65.921875 \nQ 23.96875 65.921875 18.8125 64.3125 \nQ 13.671875 62.703125 7.8125 59.421875 \nL 7.8125 69.390625 \nQ 13.765625 71.78125 18.9375 73 \nQ 24.125 74.21875 28.421875 74.21875 \nQ 39.75 74.21875 46.484375 68.546875 \nQ 53.21875 62.890625 53.21875 53.421875 \nQ 53.21875 48.921875 51.53125 44.890625 \nQ 49.859375 40.875 45.40625 35.40625 \nQ 44.1875 33.984375 37.640625 27.21875 \nQ 31.109375 20.453125 19.1875 8.296875 \nz\n\" id=\"DejaVuSans-50\"/>\n       </defs>\n       <use xlink:href=\"#DejaVuSans-49\"/>\n       <use x=\"63.623047\" xlink:href=\"#DejaVuSans-50\"/>\n       <use x=\"127.246094\" xlink:href=\"#DejaVuSans-46\"/>\n       <use x=\"159.033203\" xlink:href=\"#DejaVuSans-48\"/>\n      </g>\n     </g>\n    </g>\n    <g id=\"ytick_4\">\n     <g id=\"line2d_7\">\n      <g>\n       <use style=\"stroke:#000000;stroke-width:0.8;\" x=\"36.465625\" xlink:href=\"#m6509729951\" y=\"141.047066\"/>\n      </g>\n     </g>\n     <g id=\"text_7\">\n      <!-- 12.5 -->\n      <g transform=\"translate(7.2 144.846284)scale(0.1 -0.1)\">\n       <use xlink:href=\"#DejaVuSans-49\"/>\n       <use x=\"63.623047\" xlink:href=\"#DejaVuSans-50\"/>\n       <use x=\"127.246094\" xlink:href=\"#DejaVuSans-46\"/>\n       <use x=\"159.033203\" xlink:href=\"#DejaVuSans-53\"/>\n      </g>\n     </g>\n    </g>\n    <g id=\"ytick_5\">\n     <g id=\"line2d_8\">\n      <g>\n       <use style=\"stroke:#000000;stroke-width:0.8;\" x=\"36.465625\" xlink:href=\"#m6509729951\" y=\"115.037496\"/>\n      </g>\n     </g>\n     <g id=\"text_8\">\n      <!-- 13.0 -->\n      <g transform=\"translate(7.2 118.836715)scale(0.1 -0.1)\">\n       <defs>\n        <path d=\"M 40.578125 39.3125 \nQ 47.65625 37.796875 51.625 33 \nQ 55.609375 28.21875 55.609375 21.1875 \nQ 55.609375 10.40625 48.1875 4.484375 \nQ 40.765625 -1.421875 27.09375 -1.421875 \nQ 22.515625 -1.421875 17.65625 -0.515625 \nQ 12.796875 0.390625 7.625 2.203125 \nL 7.625 11.71875 \nQ 11.71875 9.328125 16.59375 8.109375 \nQ 21.484375 6.890625 26.8125 6.890625 \nQ 36.078125 6.890625 40.9375 10.546875 \nQ 45.796875 14.203125 45.796875 21.1875 \nQ 45.796875 27.640625 41.28125 31.265625 \nQ 36.765625 34.90625 28.71875 34.90625 \nL 20.21875 34.90625 \nL 20.21875 43.015625 \nL 29.109375 43.015625 \nQ 36.375 43.015625 40.234375 45.921875 \nQ 44.09375 48.828125 44.09375 54.296875 \nQ 44.09375 59.90625 40.109375 62.90625 \nQ 36.140625 65.921875 28.71875 65.921875 \nQ 24.65625 65.921875 20.015625 65.03125 \nQ 15.375 64.15625 9.8125 62.3125 \nL 9.8125 71.09375 \nQ 15.4375 72.65625 20.34375 73.4375 \nQ 25.25 74.21875 29.59375 74.21875 \nQ 40.828125 74.21875 47.359375 69.109375 \nQ 53.90625 64.015625 53.90625 55.328125 \nQ 53.90625 49.265625 50.4375 45.09375 \nQ 46.96875 40.921875 40.578125 39.3125 \nz\n\" id=\"DejaVuSans-51\"/>\n       </defs>\n       <use xlink:href=\"#DejaVuSans-49\"/>\n       <use x=\"63.623047\" xlink:href=\"#DejaVuSans-51\"/>\n       <use x=\"127.246094\" xlink:href=\"#DejaVuSans-46\"/>\n       <use x=\"159.033203\" xlink:href=\"#DejaVuSans-48\"/>\n      </g>\n     </g>\n    </g>\n    <g id=\"ytick_6\">\n     <g id=\"line2d_9\">\n      <g>\n       <use style=\"stroke:#000000;stroke-width:0.8;\" x=\"36.465625\" xlink:href=\"#m6509729951\" y=\"89.027927\"/>\n      </g>\n     </g>\n     <g id=\"text_9\">\n      <!-- 13.5 -->\n      <g transform=\"translate(7.2 92.827146)scale(0.1 -0.1)\">\n       <use xlink:href=\"#DejaVuSans-49\"/>\n       <use x=\"63.623047\" xlink:href=\"#DejaVuSans-51\"/>\n       <use x=\"127.246094\" xlink:href=\"#DejaVuSans-46\"/>\n       <use x=\"159.033203\" xlink:href=\"#DejaVuSans-53\"/>\n      </g>\n     </g>\n    </g>\n    <g id=\"ytick_7\">\n     <g id=\"line2d_10\">\n      <g>\n       <use style=\"stroke:#000000;stroke-width:0.8;\" x=\"36.465625\" xlink:href=\"#m6509729951\" y=\"63.018358\"/>\n      </g>\n     </g>\n     <g id=\"text_10\">\n      <!-- 14.0 -->\n      <g transform=\"translate(7.2 66.817576)scale(0.1 -0.1)\">\n       <defs>\n        <path d=\"M 37.796875 64.3125 \nL 12.890625 25.390625 \nL 37.796875 25.390625 \nz\nM 35.203125 72.90625 \nL 47.609375 72.90625 \nL 47.609375 25.390625 \nL 58.015625 25.390625 \nL 58.015625 17.1875 \nL 47.609375 17.1875 \nL 47.609375 0 \nL 37.796875 0 \nL 37.796875 17.1875 \nL 4.890625 17.1875 \nL 4.890625 26.703125 \nz\n\" id=\"DejaVuSans-52\"/>\n       </defs>\n       <use xlink:href=\"#DejaVuSans-49\"/>\n       <use x=\"63.623047\" xlink:href=\"#DejaVuSans-52\"/>\n       <use x=\"127.246094\" xlink:href=\"#DejaVuSans-46\"/>\n       <use x=\"159.033203\" xlink:href=\"#DejaVuSans-48\"/>\n      </g>\n     </g>\n    </g>\n    <g id=\"ytick_8\">\n     <g id=\"line2d_11\">\n      <g>\n       <use style=\"stroke:#000000;stroke-width:0.8;\" x=\"36.465625\" xlink:href=\"#m6509729951\" y=\"37.008788\"/>\n      </g>\n     </g>\n     <g id=\"text_11\">\n      <!-- 14.5 -->\n      <g transform=\"translate(7.2 40.808007)scale(0.1 -0.1)\">\n       <use xlink:href=\"#DejaVuSans-49\"/>\n       <use x=\"63.623047\" xlink:href=\"#DejaVuSans-52\"/>\n       <use x=\"127.246094\" xlink:href=\"#DejaVuSans-46\"/>\n       <use x=\"159.033203\" xlink:href=\"#DejaVuSans-53\"/>\n      </g>\n     </g>\n    </g>\n    <g id=\"ytick_9\">\n     <g id=\"line2d_12\">\n      <g>\n       <use style=\"stroke:#000000;stroke-width:0.8;\" x=\"36.465625\" xlink:href=\"#m6509729951\" y=\"10.999219\"/>\n      </g>\n     </g>\n     <g id=\"text_12\">\n      <!-- 15.0 -->\n      <g transform=\"translate(7.2 14.798438)scale(0.1 -0.1)\">\n       <use xlink:href=\"#DejaVuSans-49\"/>\n       <use x=\"63.623047\" xlink:href=\"#DejaVuSans-53\"/>\n       <use x=\"127.246094\" xlink:href=\"#DejaVuSans-46\"/>\n       <use x=\"159.033203\" xlink:href=\"#DejaVuSans-48\"/>\n      </g>\n     </g>\n    </g>\n   </g>\n   <g id=\"line2d_13\">\n    <path clip-path=\"url(#p938d323d80)\" d=\"M 69.945625 94.489936 \nL 114.585625 94.489936 \nL 114.585625 58.336635 \nL 69.945625 58.336635 \nL 69.945625 94.489936 \n\" style=\"fill:none;stroke:#000000;stroke-linecap:square;\"/>\n   </g>\n   <g id=\"line2d_14\">\n    <path clip-path=\"url(#p938d323d80)\" d=\"M 92.265625 94.489936 \nL 92.265625 122.840367 \n\" style=\"fill:none;stroke:#000000;stroke-linecap:square;\"/>\n   </g>\n   <g id=\"line2d_15\">\n    <path clip-path=\"url(#p938d323d80)\" d=\"M 92.265625 58.336635 \nL 92.265625 19.842472 \n\" style=\"fill:none;stroke:#000000;stroke-linecap:square;\"/>\n   </g>\n   <g id=\"line2d_16\">\n    <path clip-path=\"url(#p938d323d80)\" d=\"M 81.105625 122.840367 \nL 103.425625 122.840367 \n\" style=\"fill:none;stroke:#000000;stroke-linecap:square;\"/>\n   </g>\n   <g id=\"line2d_17\">\n    <path clip-path=\"url(#p938d323d80)\" d=\"M 81.105625 19.842472 \nL 103.425625 19.842472 \n\" style=\"fill:none;stroke:#000000;stroke-linecap:square;\"/>\n   </g>\n   <g id=\"line2d_18\"/>\n   <g id=\"line2d_19\">\n    <path clip-path=\"url(#p938d323d80)\" d=\"M 181.545625 125.181228 \nL 226.185625 125.181228 \nL 226.185625 88.767831 \nL 181.545625 88.767831 \nL 181.545625 125.181228 \n\" style=\"fill:none;stroke:#000000;stroke-linecap:square;\"/>\n   </g>\n   <g id=\"line2d_20\">\n    <path clip-path=\"url(#p938d323d80)\" d=\"M 203.865625 125.181228 \nL 203.865625 156.652807 \n\" style=\"fill:none;stroke:#000000;stroke-linecap:square;\"/>\n   </g>\n   <g id=\"line2d_21\">\n    <path clip-path=\"url(#p938d323d80)\" d=\"M 203.865625 88.767831 \nL 203.865625 45.33185 \n\" style=\"fill:none;stroke:#000000;stroke-linecap:square;\"/>\n   </g>\n   <g id=\"line2d_22\">\n    <path clip-path=\"url(#p938d323d80)\" d=\"M 192.705625 156.652807 \nL 215.025625 156.652807 \n\" style=\"fill:none;stroke:#000000;stroke-linecap:square;\"/>\n   </g>\n   <g id=\"line2d_23\">\n    <path clip-path=\"url(#p938d323d80)\" d=\"M 192.705625 45.33185 \nL 215.025625 45.33185 \n\" style=\"fill:none;stroke:#000000;stroke-linecap:square;\"/>\n   </g>\n   <g id=\"line2d_24\"/>\n   <g id=\"line2d_25\">\n    <path clip-path=\"url(#p938d323d80)\" d=\"M 293.145625 171.478262 \nL 337.785625 171.478262 \nL 337.785625 140.266779 \nL 293.145625 140.266779 \nL 293.145625 171.478262 \n\" style=\"fill:none;stroke:#000000;stroke-linecap:square;\"/>\n   </g>\n   <g id=\"line2d_26\">\n    <path clip-path=\"url(#p938d323d80)\" d=\"M 315.465625 171.478262 \nL 315.465625 217.5152 \n\" style=\"fill:none;stroke:#000000;stroke-linecap:square;\"/>\n   </g>\n   <g id=\"line2d_27\">\n    <path clip-path=\"url(#p938d323d80)\" d=\"M 315.465625 140.266779 \nL 315.465625 97.350989 \n\" style=\"fill:none;stroke:#000000;stroke-linecap:square;\"/>\n   </g>\n   <g id=\"line2d_28\">\n    <path clip-path=\"url(#p938d323d80)\" d=\"M 304.305625 217.5152 \nL 326.625625 217.5152 \n\" style=\"fill:none;stroke:#000000;stroke-linecap:square;\"/>\n   </g>\n   <g id=\"line2d_29\">\n    <path clip-path=\"url(#p938d323d80)\" d=\"M 304.305625 97.350989 \nL 326.625625 97.350989 \n\" style=\"fill:none;stroke:#000000;stroke-linecap:square;\"/>\n   </g>\n   <g id=\"line2d_30\">\n    <defs>\n     <path d=\"M 0 3 \nC 0.795609 3 1.55874 2.683901 2.12132 2.12132 \nC 2.683901 1.55874 3 0.795609 3 0 \nC 3 -0.795609 2.683901 -1.55874 2.12132 -2.12132 \nC 1.55874 -2.683901 0.795609 -3 0 -3 \nC -0.795609 -3 -1.55874 -2.683901 -2.12132 -2.12132 \nC -2.683901 -1.55874 -3 -0.795609 -3 0 \nC -3 0.795609 -2.683901 1.55874 -2.12132 2.12132 \nC -1.55874 2.683901 -0.795609 3 0 3 \nz\n\" id=\"m1bc03b98ef\" style=\"stroke:#000000;\"/>\n    </defs>\n    <g clip-path=\"url(#p938d323d80)\">\n     <use style=\"fill-opacity:0;stroke:#000000;\" x=\"315.465625\" xlink:href=\"#m1bc03b98ef\" y=\"80.184673\"/>\n     <use style=\"fill-opacity:0;stroke:#000000;\" x=\"315.465625\" xlink:href=\"#m1bc03b98ef\" y=\"70.301037\"/>\n     <use style=\"fill-opacity:0;stroke:#000000;\" x=\"315.465625\" xlink:href=\"#m1bc03b98ef\" y=\"89.548118\"/>\n    </g>\n   </g>\n   <g id=\"line2d_31\">\n    <path clip-path=\"url(#p938d323d80)\" d=\"M 69.945625 76.283238 \nL 114.585625 76.283238 \n\" style=\"fill:none;stroke:#ff7f0e;stroke-linecap:square;\"/>\n   </g>\n   <g id=\"line2d_32\">\n    <path clip-path=\"url(#p938d323d80)\" d=\"M 181.545625 106.454338 \nL 226.185625 106.454338 \n\" style=\"fill:none;stroke:#ff7f0e;stroke-linecap:square;\"/>\n   </g>\n   <g id=\"line2d_33\">\n    <path clip-path=\"url(#p938d323d80)\" d=\"M 293.145625 151.971085 \nL 337.785625 151.971085 \n\" style=\"fill:none;stroke:#ff7f0e;stroke-linecap:square;\"/>\n   </g>\n   <g id=\"patch_3\">\n    <path d=\"M 36.465625 227.398836 \nL 36.465625 9.958836 \n\" style=\"fill:none;stroke:#000000;stroke-linecap:square;stroke-linejoin:miter;stroke-width:0.8;\"/>\n   </g>\n   <g id=\"patch_4\">\n    <path d=\"M 371.265625 227.398836 \nL 371.265625 9.958836 \n\" style=\"fill:none;stroke:#000000;stroke-linecap:square;stroke-linejoin:miter;stroke-width:0.8;\"/>\n   </g>\n   <g id=\"patch_5\">\n    <path d=\"M 36.465625 227.398836 \nL 371.265625 227.398836 \n\" style=\"fill:none;stroke:#000000;stroke-linecap:square;stroke-linejoin:miter;stroke-width:0.8;\"/>\n   </g>\n   <g id=\"patch_6\">\n    <path d=\"M 36.465625 9.958836 \nL 371.265625 9.958836 \n\" style=\"fill:none;stroke:#000000;stroke-linecap:square;stroke-linejoin:miter;stroke-width:0.8;\"/>\n   </g>\n  </g>\n </g>\n <defs>\n  <clipPath id=\"p938d323d80\">\n   <rect height=\"217.44\" width=\"334.8\" x=\"36.465625\" y=\"9.958836\"/>\n  </clipPath>\n </defs>\n</svg>\n",
      "image/png": "[encoded data removed]"
     },
     "metadata": {
      "needs_background": "light"
     }
    }
   ],
   "source": [
    "import matplotlib.pyplot as plt \n",
    "%matplotlib inline\n",
    "\n",
    "df_grignolino = df1[df2['x'] == 'Grignolino']\n",
    "\n",
    "to_plot = [df_barolo['alcohol'], df_barbera['alcohol'], df_grignolino['alcohol']]\n",
    "\n",
    "plt.boxplot(to_plot, positions = [1, 2, 3], widths = 0.4)\n",
    "plt.xticks([1,2,3], ['Barolo', 'Barbera', 'Grignolino'])\n",
    "plt.show()"
   ]
  },
  {
   "cell_type": "markdown",
   "metadata": {},
   "source": [
    "7- Repete o processo da questão 4 para todas as variáveis do dataset. Qual aquela que tem maior evidência de diferenças entre as duas classes."
   ]
  },
  {
   "cell_type": "code",
   "execution_count": 38,
   "metadata": {},
   "outputs": [
    {
     "output_type": "execute_result",
     "data": {
      "text/plain": [
       "Unnamed: 0           1.294259e-65\n",
       "alcohol              2.347998e-08\n",
       "malic acid           1.667697e-11\n",
       "ash                  6.450298e-01\n",
       "ash alkalinity       4.387521e-15\n",
       "magnesium            1.574579e-03\n",
       "tot. phenols         6.121123e-32\n",
       "flavonoids           3.561360e-55\n",
       "non-flav. phenols    7.194458e-13\n",
       "proanth              3.718284e-15\n",
       "col. int.            6.525118e-07\n",
       "col. hue             2.554995e-31\n",
       "OD ratio             6.670210e-44\n",
       "proline              5.968727e-25\n",
       "dtype: float64"
      ]
     },
     "metadata": {},
     "execution_count": 38
    }
   ],
   "source": [
    "res_tt = lambda x : stats.ttest_ind(x[df2['x'] == 'Barbera'], x[df2['x'] == 'Barolo'])\n",
    "\n",
    "df1.apply(lambda x: res_tt(x)[1])"
   ]
  }
 ],
 "metadata": {
  "anaconda-cloud": {},
  "kernelspec": {
   "name": "python3",
   "display_name": "Python 3.9.2 64-bit",
   "metadata": {
    "interpreter": {
     "hash": "aee8b7b246df8f9039afb4144a1f6fd8d2ca17a180786b69acc140d282b71a49"
    }
   }
  },
  "language_info": {
   "codemirror_mode": {
    "name": "ipython",
    "version": 3
   },
   "file_extension": ".py",
   "mimetype": "text/x-python",
   "name": "python",
   "nbconvert_exporter": "python",
   "pygments_lexer": "ipython3",
   "version": "3.9.2-final"
  }
 },
 "nbformat": 4,
 "nbformat_minor": 1
}