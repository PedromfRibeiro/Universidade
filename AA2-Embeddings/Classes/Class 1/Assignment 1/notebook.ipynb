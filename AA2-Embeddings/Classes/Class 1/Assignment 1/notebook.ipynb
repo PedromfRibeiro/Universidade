{
 "cells": [
  {
   "cell_type": "markdown",
   "metadata": {},
   "source": [
    "# Ficha de trabalho 1\n",
    "1 - Considera o ficheiro **grades.csv** com a classificação de algumas disciplinas do curso de bioinformática.\n",
    "Importa os dados para um objeto do tipo pandas.DataFrame"
   ]
  },
  {
   "cell_type": "code",
   "execution_count": 1,
   "metadata": {},
   "outputs": [
    {
     "output_type": "execute_result",
     "data": {
      "text/plain": [
       "      Nome  Laboratórios   Alg. Avançados   Biologia Sistemas\n",
       "0     João          12.0             16.0                17.0\n",
       "1    Carla          17.0             16.0                 NaN\n",
       "2    Sónia           NaN             18.0                18.0\n",
       "3    Pedro          16.0              NaN                18.0\n",
       "4     José          14.0             17.0                12.0\n",
       "5   Carina          19.0             18.0                20.0\n",
       "6    Telma          16.0             14.0                12.0\n",
       "7  Joaquim           NaN             15.0                12.0\n",
       "8  Ricardo          15.0             15.0                14.0\n",
       "9    Vanda          16.0             15.0                18.0"
      ],
      "text/html": "<div>\n<style scoped>\n    .dataframe tbody tr th:only-of-type {\n        vertical-align: middle;\n    }\n\n    .dataframe tbody tr th {\n        vertical-align: top;\n    }\n\n    .dataframe thead th {\n        text-align: right;\n    }\n</style>\n<table border=\"1\" class=\"dataframe\">\n  <thead>\n    <tr style=\"text-align: right;\">\n      <th></th>\n      <th>Nome</th>\n      <th>Laboratórios</th>\n      <th>Alg. Avançados</th>\n      <th>Biologia Sistemas</th>\n    </tr>\n  </thead>\n  <tbody>\n    <tr>\n      <th>0</th>\n      <td>João</td>\n      <td>12.0</td>\n      <td>16.0</td>\n      <td>17.0</td>\n    </tr>\n    <tr>\n      <th>1</th>\n      <td>Carla</td>\n      <td>17.0</td>\n      <td>16.0</td>\n      <td>NaN</td>\n    </tr>\n    <tr>\n      <th>2</th>\n      <td>Sónia</td>\n      <td>NaN</td>\n      <td>18.0</td>\n      <td>18.0</td>\n    </tr>\n    <tr>\n      <th>3</th>\n      <td>Pedro</td>\n      <td>16.0</td>\n      <td>NaN</td>\n      <td>18.0</td>\n    </tr>\n    <tr>\n      <th>4</th>\n      <td>José</td>\n      <td>14.0</td>\n      <td>17.0</td>\n      <td>12.0</td>\n    </tr>\n    <tr>\n      <th>5</th>\n      <td>Carina</td>\n      <td>19.0</td>\n      <td>18.0</td>\n      <td>20.0</td>\n    </tr>\n    <tr>\n      <th>6</th>\n      <td>Telma</td>\n      <td>16.0</td>\n      <td>14.0</td>\n      <td>12.0</td>\n    </tr>\n    <tr>\n      <th>7</th>\n      <td>Joaquim</td>\n      <td>NaN</td>\n      <td>15.0</td>\n      <td>12.0</td>\n    </tr>\n    <tr>\n      <th>8</th>\n      <td>Ricardo</td>\n      <td>15.0</td>\n      <td>15.0</td>\n      <td>14.0</td>\n    </tr>\n    <tr>\n      <th>9</th>\n      <td>Vanda</td>\n      <td>16.0</td>\n      <td>15.0</td>\n      <td>18.0</td>\n    </tr>\n  </tbody>\n</table>\n</div>"
     },
     "metadata": {},
     "execution_count": 1
    }
   ],
   "source": [
    "import pandas as pd\n",
    "\n",
    "df = pd.read_csv('grades.csv')\n",
    "df"
   ]
  },
  {
   "cell_type": "markdown",
   "metadata": {},
   "source": [
    "2 - Ordena a informação pela ordem alfabética dos nomes."
   ]
  },
  {
   "cell_type": "code",
   "execution_count": 2,
   "metadata": {},
   "outputs": [
    {
     "output_type": "execute_result",
     "data": {
      "text/plain": [
       "      Nome  Laboratórios   Alg. Avançados   Biologia Sistemas\n",
       "5   Carina          19.0             18.0                20.0\n",
       "1    Carla          17.0             16.0                 NaN\n",
       "7  Joaquim           NaN             15.0                12.0\n",
       "4     José          14.0             17.0                12.0\n",
       "0     João          12.0             16.0                17.0\n",
       "3    Pedro          16.0              NaN                18.0\n",
       "8  Ricardo          15.0             15.0                14.0\n",
       "2    Sónia           NaN             18.0                18.0\n",
       "6    Telma          16.0             14.0                12.0\n",
       "9    Vanda          16.0             15.0                18.0"
      ],
      "text/html": "<div>\n<style scoped>\n    .dataframe tbody tr th:only-of-type {\n        vertical-align: middle;\n    }\n\n    .dataframe tbody tr th {\n        vertical-align: top;\n    }\n\n    .dataframe thead th {\n        text-align: right;\n    }\n</style>\n<table border=\"1\" class=\"dataframe\">\n  <thead>\n    <tr style=\"text-align: right;\">\n      <th></th>\n      <th>Nome</th>\n      <th>Laboratórios</th>\n      <th>Alg. Avançados</th>\n      <th>Biologia Sistemas</th>\n    </tr>\n  </thead>\n  <tbody>\n    <tr>\n      <th>5</th>\n      <td>Carina</td>\n      <td>19.0</td>\n      <td>18.0</td>\n      <td>20.0</td>\n    </tr>\n    <tr>\n      <th>1</th>\n      <td>Carla</td>\n      <td>17.0</td>\n      <td>16.0</td>\n      <td>NaN</td>\n    </tr>\n    <tr>\n      <th>7</th>\n      <td>Joaquim</td>\n      <td>NaN</td>\n      <td>15.0</td>\n      <td>12.0</td>\n    </tr>\n    <tr>\n      <th>4</th>\n      <td>José</td>\n      <td>14.0</td>\n      <td>17.0</td>\n      <td>12.0</td>\n    </tr>\n    <tr>\n      <th>0</th>\n      <td>João</td>\n      <td>12.0</td>\n      <td>16.0</td>\n      <td>17.0</td>\n    </tr>\n    <tr>\n      <th>3</th>\n      <td>Pedro</td>\n      <td>16.0</td>\n      <td>NaN</td>\n      <td>18.0</td>\n    </tr>\n    <tr>\n      <th>8</th>\n      <td>Ricardo</td>\n      <td>15.0</td>\n      <td>15.0</td>\n      <td>14.0</td>\n    </tr>\n    <tr>\n      <th>2</th>\n      <td>Sónia</td>\n      <td>NaN</td>\n      <td>18.0</td>\n      <td>18.0</td>\n    </tr>\n    <tr>\n      <th>6</th>\n      <td>Telma</td>\n      <td>16.0</td>\n      <td>14.0</td>\n      <td>12.0</td>\n    </tr>\n    <tr>\n      <th>9</th>\n      <td>Vanda</td>\n      <td>16.0</td>\n      <td>15.0</td>\n      <td>18.0</td>\n    </tr>\n  </tbody>\n</table>\n</div>"
     },
     "metadata": {},
     "execution_count": 2
    }
   ],
   "source": [
    "ordered_df = df.sort_values('Nome')\n",
    "ordered_df"
   ]
  },
  {
   "cell_type": "markdown",
   "metadata": {},
   "source": [
    "3 - Calcula a média de cada uma das disciplinas. "
   ]
  },
  {
   "cell_type": "code",
   "execution_count": 3,
   "metadata": {},
   "outputs": [
    {
     "output_type": "execute_result",
     "data": {
      "text/plain": [
       "Laboratórios          15.625000\n",
       " Alg. Avançados       16.000000\n",
       " Biologia Sistemas    15.666667\n",
       "dtype: float64"
      ]
     },
     "metadata": {},
     "execution_count": 3
    }
   ],
   "source": [
    "df.mean()"
   ]
  },
  {
   "cell_type": "markdown",
   "metadata": {},
   "source": [
    "4 - Seleciona o nome dos alunos com classificação igual ou superior 16 na disciplina de Laboratórios."
   ]
  },
  {
   "cell_type": "code",
   "execution_count": 4,
   "metadata": {},
   "outputs": [
    {
     "output_type": "execute_result",
     "data": {
      "text/plain": [
       "1     Carla\n",
       "3     Pedro\n",
       "5    Carina\n",
       "6     Telma\n",
       "9     Vanda\n",
       "Name: Nome, dtype: object"
      ]
     },
     "metadata": {},
     "execution_count": 4
    }
   ],
   "source": [
    "df.loc[df['Laboratórios'] >= 16][\"Nome\"]"
   ]
  },
  {
   "cell_type": "markdown",
   "metadata": {},
   "source": [
    "5 - Cria uma nova coluna com a média de cada um dos alunos nas 3 disciplinas."
   ]
  },
  {
   "cell_type": "code",
   "execution_count": 5,
   "metadata": {},
   "outputs": [
    {
     "output_type": "execute_result",
     "data": {
      "text/plain": [
       "      Nome  Laboratórios   Alg. Avançados   Biologia Sistemas      Média\n",
       "0     João          12.0             16.0                17.0  15.000000\n",
       "1    Carla          17.0             16.0                 NaN  16.500000\n",
       "2    Sónia           NaN             18.0                18.0  18.000000\n",
       "3    Pedro          16.0              NaN                18.0  17.000000\n",
       "4     José          14.0             17.0                12.0  14.333333\n",
       "5   Carina          19.0             18.0                20.0  19.000000\n",
       "6    Telma          16.0             14.0                12.0  14.000000\n",
       "7  Joaquim           NaN             15.0                12.0  13.500000\n",
       "8  Ricardo          15.0             15.0                14.0  14.666667\n",
       "9    Vanda          16.0             15.0                18.0  16.333333"
      ],
      "text/html": "<div>\n<style scoped>\n    .dataframe tbody tr th:only-of-type {\n        vertical-align: middle;\n    }\n\n    .dataframe tbody tr th {\n        vertical-align: top;\n    }\n\n    .dataframe thead th {\n        text-align: right;\n    }\n</style>\n<table border=\"1\" class=\"dataframe\">\n  <thead>\n    <tr style=\"text-align: right;\">\n      <th></th>\n      <th>Nome</th>\n      <th>Laboratórios</th>\n      <th>Alg. Avançados</th>\n      <th>Biologia Sistemas</th>\n      <th>Média</th>\n    </tr>\n  </thead>\n  <tbody>\n    <tr>\n      <th>0</th>\n      <td>João</td>\n      <td>12.0</td>\n      <td>16.0</td>\n      <td>17.0</td>\n      <td>15.000000</td>\n    </tr>\n    <tr>\n      <th>1</th>\n      <td>Carla</td>\n      <td>17.0</td>\n      <td>16.0</td>\n      <td>NaN</td>\n      <td>16.500000</td>\n    </tr>\n    <tr>\n      <th>2</th>\n      <td>Sónia</td>\n      <td>NaN</td>\n      <td>18.0</td>\n      <td>18.0</td>\n      <td>18.000000</td>\n    </tr>\n    <tr>\n      <th>3</th>\n      <td>Pedro</td>\n      <td>16.0</td>\n      <td>NaN</td>\n      <td>18.0</td>\n      <td>17.000000</td>\n    </tr>\n    <tr>\n      <th>4</th>\n      <td>José</td>\n      <td>14.0</td>\n      <td>17.0</td>\n      <td>12.0</td>\n      <td>14.333333</td>\n    </tr>\n    <tr>\n      <th>5</th>\n      <td>Carina</td>\n      <td>19.0</td>\n      <td>18.0</td>\n      <td>20.0</td>\n      <td>19.000000</td>\n    </tr>\n    <tr>\n      <th>6</th>\n      <td>Telma</td>\n      <td>16.0</td>\n      <td>14.0</td>\n      <td>12.0</td>\n      <td>14.000000</td>\n    </tr>\n    <tr>\n      <th>7</th>\n      <td>Joaquim</td>\n      <td>NaN</td>\n      <td>15.0</td>\n      <td>12.0</td>\n      <td>13.500000</td>\n    </tr>\n    <tr>\n      <th>8</th>\n      <td>Ricardo</td>\n      <td>15.0</td>\n      <td>15.0</td>\n      <td>14.0</td>\n      <td>14.666667</td>\n    </tr>\n    <tr>\n      <th>9</th>\n      <td>Vanda</td>\n      <td>16.0</td>\n      <td>15.0</td>\n      <td>18.0</td>\n      <td>16.333333</td>\n    </tr>\n  </tbody>\n</table>\n</div>"
     },
     "metadata": {},
     "execution_count": 5
    }
   ],
   "source": [
    "df['Média'] = df.mean(numeric_only=True, axis=1)\n",
    "df"
   ]
  },
  {
   "cell_type": "markdown",
   "metadata": {},
   "source": [
    "6 - Considera a seguinte informação adicional.\n",
    "```python\n",
    "Sexo = ['M','F','F','M','M','F','F','M','M','F']\n",
    "Idade = [23,21,25,21,22,23,21,20,27,21]\n",
    "```\n",
    "Constroi um novo DataFrame (df2) com a informação adicional dos alunos."
   ]
  },
  {
   "cell_type": "code",
   "execution_count": 6,
   "metadata": {},
   "outputs": [
    {
     "output_type": "execute_result",
     "data": {
      "text/plain": [
       "  Sexo  Idade\n",
       "0    M     23\n",
       "1    F     21\n",
       "2    F     25\n",
       "3    M     21\n",
       "4    M     22\n",
       "5    F     23\n",
       "6    F     21\n",
       "7    M     20\n",
       "8    M     27\n",
       "9    F     21"
      ],
      "text/html": "<div>\n<style scoped>\n    .dataframe tbody tr th:only-of-type {\n        vertical-align: middle;\n    }\n\n    .dataframe tbody tr th {\n        vertical-align: top;\n    }\n\n    .dataframe thead th {\n        text-align: right;\n    }\n</style>\n<table border=\"1\" class=\"dataframe\">\n  <thead>\n    <tr style=\"text-align: right;\">\n      <th></th>\n      <th>Sexo</th>\n      <th>Idade</th>\n    </tr>\n  </thead>\n  <tbody>\n    <tr>\n      <th>0</th>\n      <td>M</td>\n      <td>23</td>\n    </tr>\n    <tr>\n      <th>1</th>\n      <td>F</td>\n      <td>21</td>\n    </tr>\n    <tr>\n      <th>2</th>\n      <td>F</td>\n      <td>25</td>\n    </tr>\n    <tr>\n      <th>3</th>\n      <td>M</td>\n      <td>21</td>\n    </tr>\n    <tr>\n      <th>4</th>\n      <td>M</td>\n      <td>22</td>\n    </tr>\n    <tr>\n      <th>5</th>\n      <td>F</td>\n      <td>23</td>\n    </tr>\n    <tr>\n      <th>6</th>\n      <td>F</td>\n      <td>21</td>\n    </tr>\n    <tr>\n      <th>7</th>\n      <td>M</td>\n      <td>20</td>\n    </tr>\n    <tr>\n      <th>8</th>\n      <td>M</td>\n      <td>27</td>\n    </tr>\n    <tr>\n      <th>9</th>\n      <td>F</td>\n      <td>21</td>\n    </tr>\n  </tbody>\n</table>\n</div>"
     },
     "metadata": {},
     "execution_count": 6
    }
   ],
   "source": [
    "Sexo = ['M','F','F','M','M','F','F','M','M','F']\n",
    "Idade = [23,21,25,21,22,23,21,20,27,21]\n",
    "dic = {'Sexo': Sexo, 'Idade': Idade}\n",
    "df2 = pd.DataFrame(data=dic)\n",
    "df2"
   ]
  },
  {
   "cell_type": "markdown",
   "metadata": {},
   "source": [
    "7 - Compila a informação presente nos dois DataFrames (df e df2) num único DataFrame. "
   ]
  },
  {
   "cell_type": "code",
   "execution_count": 7,
   "metadata": {},
   "outputs": [
    {
     "output_type": "execute_result",
     "data": {
      "text/plain": [
       "      Nome  Laboratórios   Alg. Avançados   Biologia Sistemas      Média Sexo  \\\n",
       "0     João          12.0             16.0                17.0  15.000000    M   \n",
       "1    Carla          17.0             16.0                 NaN  16.500000    F   \n",
       "2    Sónia           NaN             18.0                18.0  18.000000    F   \n",
       "3    Pedro          16.0              NaN                18.0  17.000000    M   \n",
       "4     José          14.0             17.0                12.0  14.333333    M   \n",
       "5   Carina          19.0             18.0                20.0  19.000000    F   \n",
       "6    Telma          16.0             14.0                12.0  14.000000    F   \n",
       "7  Joaquim           NaN             15.0                12.0  13.500000    M   \n",
       "8  Ricardo          15.0             15.0                14.0  14.666667    M   \n",
       "9    Vanda          16.0             15.0                18.0  16.333333    F   \n",
       "\n",
       "   Idade  \n",
       "0     23  \n",
       "1     21  \n",
       "2     25  \n",
       "3     21  \n",
       "4     22  \n",
       "5     23  \n",
       "6     21  \n",
       "7     20  \n",
       "8     27  \n",
       "9     21  "
      ],
      "text/html": "<div>\n<style scoped>\n    .dataframe tbody tr th:only-of-type {\n        vertical-align: middle;\n    }\n\n    .dataframe tbody tr th {\n        vertical-align: top;\n    }\n\n    .dataframe thead th {\n        text-align: right;\n    }\n</style>\n<table border=\"1\" class=\"dataframe\">\n  <thead>\n    <tr style=\"text-align: right;\">\n      <th></th>\n      <th>Nome</th>\n      <th>Laboratórios</th>\n      <th>Alg. Avançados</th>\n      <th>Biologia Sistemas</th>\n      <th>Média</th>\n      <th>Sexo</th>\n      <th>Idade</th>\n    </tr>\n  </thead>\n  <tbody>\n    <tr>\n      <th>0</th>\n      <td>João</td>\n      <td>12.0</td>\n      <td>16.0</td>\n      <td>17.0</td>\n      <td>15.000000</td>\n      <td>M</td>\n      <td>23</td>\n    </tr>\n    <tr>\n      <th>1</th>\n      <td>Carla</td>\n      <td>17.0</td>\n      <td>16.0</td>\n      <td>NaN</td>\n      <td>16.500000</td>\n      <td>F</td>\n      <td>21</td>\n    </tr>\n    <tr>\n      <th>2</th>\n      <td>Sónia</td>\n      <td>NaN</td>\n      <td>18.0</td>\n      <td>18.0</td>\n      <td>18.000000</td>\n      <td>F</td>\n      <td>25</td>\n    </tr>\n    <tr>\n      <th>3</th>\n      <td>Pedro</td>\n      <td>16.0</td>\n      <td>NaN</td>\n      <td>18.0</td>\n      <td>17.000000</td>\n      <td>M</td>\n      <td>21</td>\n    </tr>\n    <tr>\n      <th>4</th>\n      <td>José</td>\n      <td>14.0</td>\n      <td>17.0</td>\n      <td>12.0</td>\n      <td>14.333333</td>\n      <td>M</td>\n      <td>22</td>\n    </tr>\n    <tr>\n      <th>5</th>\n      <td>Carina</td>\n      <td>19.0</td>\n      <td>18.0</td>\n      <td>20.0</td>\n      <td>19.000000</td>\n      <td>F</td>\n      <td>23</td>\n    </tr>\n    <tr>\n      <th>6</th>\n      <td>Telma</td>\n      <td>16.0</td>\n      <td>14.0</td>\n      <td>12.0</td>\n      <td>14.000000</td>\n      <td>F</td>\n      <td>21</td>\n    </tr>\n    <tr>\n      <th>7</th>\n      <td>Joaquim</td>\n      <td>NaN</td>\n      <td>15.0</td>\n      <td>12.0</td>\n      <td>13.500000</td>\n      <td>M</td>\n      <td>20</td>\n    </tr>\n    <tr>\n      <th>8</th>\n      <td>Ricardo</td>\n      <td>15.0</td>\n      <td>15.0</td>\n      <td>14.0</td>\n      <td>14.666667</td>\n      <td>M</td>\n      <td>27</td>\n    </tr>\n    <tr>\n      <th>9</th>\n      <td>Vanda</td>\n      <td>16.0</td>\n      <td>15.0</td>\n      <td>18.0</td>\n      <td>16.333333</td>\n      <td>F</td>\n      <td>21</td>\n    </tr>\n  </tbody>\n</table>\n</div>"
     },
     "metadata": {},
     "execution_count": 7
    }
   ],
   "source": [
    "df = df.join(df2)\n",
    "df"
   ]
  },
  {
   "cell_type": "markdown",
   "metadata": {},
   "source": [
    "8 - A média da notas das raparigas é mais alta, em comparação com a dos rapazes, na disciplina de Biologia Sistemas?"
   ]
  },
  {
   "cell_type": "code",
   "execution_count": 8,
   "metadata": {},
   "outputs": [
    {
     "output_type": "execute_result",
     "data": {
      "text/plain": [
       "True"
      ]
     },
     "metadata": {},
     "execution_count": 8
    }
   ],
   "source": [
    "df.loc[df['Sexo'] == 'F']['Média'].mean() > df.loc[df['Sexo'] == 'M']['Média'].mean()"
   ]
  },
  {
   "cell_type": "markdown",
   "metadata": {},
   "source": [
    "9 - Remove do DataFrame os alunos que têm disciplinas em atraso. Coloca o resultado em df3. Os alunos com disciplinas em atraso têm valor omisso nessa coluna."
   ]
  },
  {
   "cell_type": "code",
   "execution_count": 9,
   "metadata": {},
   "outputs": [
    {
     "output_type": "execute_result",
     "data": {
      "text/plain": [
       "      Nome  Laboratórios   Alg. Avançados   Biologia Sistemas      Média Sexo  \\\n",
       "0     João          12.0             16.0                17.0  15.000000    M   \n",
       "4     José          14.0             17.0                12.0  14.333333    M   \n",
       "5   Carina          19.0             18.0                20.0  19.000000    F   \n",
       "6    Telma          16.0             14.0                12.0  14.000000    F   \n",
       "8  Ricardo          15.0             15.0                14.0  14.666667    M   \n",
       "9    Vanda          16.0             15.0                18.0  16.333333    F   \n",
       "\n",
       "   Idade  \n",
       "0     23  \n",
       "4     22  \n",
       "5     23  \n",
       "6     21  \n",
       "8     27  \n",
       "9     21  "
      ],
      "text/html": "<div>\n<style scoped>\n    .dataframe tbody tr th:only-of-type {\n        vertical-align: middle;\n    }\n\n    .dataframe tbody tr th {\n        vertical-align: top;\n    }\n\n    .dataframe thead th {\n        text-align: right;\n    }\n</style>\n<table border=\"1\" class=\"dataframe\">\n  <thead>\n    <tr style=\"text-align: right;\">\n      <th></th>\n      <th>Nome</th>\n      <th>Laboratórios</th>\n      <th>Alg. Avançados</th>\n      <th>Biologia Sistemas</th>\n      <th>Média</th>\n      <th>Sexo</th>\n      <th>Idade</th>\n    </tr>\n  </thead>\n  <tbody>\n    <tr>\n      <th>0</th>\n      <td>João</td>\n      <td>12.0</td>\n      <td>16.0</td>\n      <td>17.0</td>\n      <td>15.000000</td>\n      <td>M</td>\n      <td>23</td>\n    </tr>\n    <tr>\n      <th>4</th>\n      <td>José</td>\n      <td>14.0</td>\n      <td>17.0</td>\n      <td>12.0</td>\n      <td>14.333333</td>\n      <td>M</td>\n      <td>22</td>\n    </tr>\n    <tr>\n      <th>5</th>\n      <td>Carina</td>\n      <td>19.0</td>\n      <td>18.0</td>\n      <td>20.0</td>\n      <td>19.000000</td>\n      <td>F</td>\n      <td>23</td>\n    </tr>\n    <tr>\n      <th>6</th>\n      <td>Telma</td>\n      <td>16.0</td>\n      <td>14.0</td>\n      <td>12.0</td>\n      <td>14.000000</td>\n      <td>F</td>\n      <td>21</td>\n    </tr>\n    <tr>\n      <th>8</th>\n      <td>Ricardo</td>\n      <td>15.0</td>\n      <td>15.0</td>\n      <td>14.0</td>\n      <td>14.666667</td>\n      <td>M</td>\n      <td>27</td>\n    </tr>\n    <tr>\n      <th>9</th>\n      <td>Vanda</td>\n      <td>16.0</td>\n      <td>15.0</td>\n      <td>18.0</td>\n      <td>16.333333</td>\n      <td>F</td>\n      <td>21</td>\n    </tr>\n  </tbody>\n</table>\n</div>"
     },
     "metadata": {},
     "execution_count": 9
    }
   ],
   "source": [
    "df3 = df.dropna(subset=['Laboratórios', ' Alg. Avançados', ' Biologia Sistemas'])\n",
    "df3"
   ]
  },
  {
   "cell_type": "markdown",
   "metadata": {},
   "source": [
    "10 - Cria uma tabela pivot que apresente a média das notas de Laboratórios agrupada por idades para ambos os sexos."
   ]
  },
  {
   "cell_type": "code",
   "execution_count": 10,
   "metadata": {},
   "outputs": [
    {
     "output_type": "execute_result",
     "data": {
      "text/plain": [
       "Sexo  Idade\n",
       "F     21       16.333333\n",
       "      23       19.000000\n",
       "      25             NaN\n",
       "M     20             NaN\n",
       "      21       16.000000\n",
       "      22       14.000000\n",
       "      23       12.000000\n",
       "      27       15.000000\n",
       "Name: Laboratórios, dtype: float64"
      ]
     },
     "metadata": {},
     "execution_count": 10
    }
   ],
   "source": [
    "pivot = df.groupby(['Sexo', 'Idade'])['Laboratórios'].mean()\n",
    "pivot"
   ]
  },
  {
   "cell_type": "markdown",
   "metadata": {},
   "source": [
    "11 - Adiciona uma nova coluna que indique se o aluno tem bolsa de Mérito ou não. Para ter bolsa de Mérito o aluno não pode ter disciplinas em atraso e média tem que ser superior a 17 valores. Explora a função **apply**."
   ]
  },
  {
   "cell_type": "code",
   "execution_count": 11,
   "metadata": {},
   "outputs": [
    {
     "output_type": "execute_result",
     "data": {
      "text/plain": [
       "      Nome  Laboratórios   Alg. Avançados   Biologia Sistemas      Média Sexo  \\\n",
       "0     João          12.0             16.0                17.0  15.000000    M   \n",
       "1    Carla          17.0             16.0                 NaN  16.500000    F   \n",
       "2    Sónia           NaN             18.0                18.0  18.000000    F   \n",
       "3    Pedro          16.0              NaN                18.0  17.000000    M   \n",
       "4     José          14.0             17.0                12.0  14.333333    M   \n",
       "5   Carina          19.0             18.0                20.0  19.000000    F   \n",
       "6    Telma          16.0             14.0                12.0  14.000000    F   \n",
       "7  Joaquim           NaN             15.0                12.0  13.500000    M   \n",
       "8  Ricardo          15.0             15.0                14.0  14.666667    M   \n",
       "9    Vanda          16.0             15.0                18.0  16.333333    F   \n",
       "\n",
       "   Idade Mérito  \n",
       "0     23    Não  \n",
       "1     21    Não  \n",
       "2     25    Não  \n",
       "3     21    Não  \n",
       "4     22    Não  \n",
       "5     23    Sim  \n",
       "6     21    Não  \n",
       "7     20    Não  \n",
       "8     27    Não  \n",
       "9     21    Não  "
      ],
      "text/html": "<div>\n<style scoped>\n    .dataframe tbody tr th:only-of-type {\n        vertical-align: middle;\n    }\n\n    .dataframe tbody tr th {\n        vertical-align: top;\n    }\n\n    .dataframe thead th {\n        text-align: right;\n    }\n</style>\n<table border=\"1\" class=\"dataframe\">\n  <thead>\n    <tr style=\"text-align: right;\">\n      <th></th>\n      <th>Nome</th>\n      <th>Laboratórios</th>\n      <th>Alg. Avançados</th>\n      <th>Biologia Sistemas</th>\n      <th>Média</th>\n      <th>Sexo</th>\n      <th>Idade</th>\n      <th>Mérito</th>\n    </tr>\n  </thead>\n  <tbody>\n    <tr>\n      <th>0</th>\n      <td>João</td>\n      <td>12.0</td>\n      <td>16.0</td>\n      <td>17.0</td>\n      <td>15.000000</td>\n      <td>M</td>\n      <td>23</td>\n      <td>Não</td>\n    </tr>\n    <tr>\n      <th>1</th>\n      <td>Carla</td>\n      <td>17.0</td>\n      <td>16.0</td>\n      <td>NaN</td>\n      <td>16.500000</td>\n      <td>F</td>\n      <td>21</td>\n      <td>Não</td>\n    </tr>\n    <tr>\n      <th>2</th>\n      <td>Sónia</td>\n      <td>NaN</td>\n      <td>18.0</td>\n      <td>18.0</td>\n      <td>18.000000</td>\n      <td>F</td>\n      <td>25</td>\n      <td>Não</td>\n    </tr>\n    <tr>\n      <th>3</th>\n      <td>Pedro</td>\n      <td>16.0</td>\n      <td>NaN</td>\n      <td>18.0</td>\n      <td>17.000000</td>\n      <td>M</td>\n      <td>21</td>\n      <td>Não</td>\n    </tr>\n    <tr>\n      <th>4</th>\n      <td>José</td>\n      <td>14.0</td>\n      <td>17.0</td>\n      <td>12.0</td>\n      <td>14.333333</td>\n      <td>M</td>\n      <td>22</td>\n      <td>Não</td>\n    </tr>\n    <tr>\n      <th>5</th>\n      <td>Carina</td>\n      <td>19.0</td>\n      <td>18.0</td>\n      <td>20.0</td>\n      <td>19.000000</td>\n      <td>F</td>\n      <td>23</td>\n      <td>Sim</td>\n    </tr>\n    <tr>\n      <th>6</th>\n      <td>Telma</td>\n      <td>16.0</td>\n      <td>14.0</td>\n      <td>12.0</td>\n      <td>14.000000</td>\n      <td>F</td>\n      <td>21</td>\n      <td>Não</td>\n    </tr>\n    <tr>\n      <th>7</th>\n      <td>Joaquim</td>\n      <td>NaN</td>\n      <td>15.0</td>\n      <td>12.0</td>\n      <td>13.500000</td>\n      <td>M</td>\n      <td>20</td>\n      <td>Não</td>\n    </tr>\n    <tr>\n      <th>8</th>\n      <td>Ricardo</td>\n      <td>15.0</td>\n      <td>15.0</td>\n      <td>14.0</td>\n      <td>14.666667</td>\n      <td>M</td>\n      <td>27</td>\n      <td>Não</td>\n    </tr>\n    <tr>\n      <th>9</th>\n      <td>Vanda</td>\n      <td>16.0</td>\n      <td>15.0</td>\n      <td>18.0</td>\n      <td>16.333333</td>\n      <td>F</td>\n      <td>21</td>\n      <td>Não</td>\n    </tr>\n  </tbody>\n</table>\n</div>"
     },
     "metadata": {},
     "execution_count": 11
    }
   ],
   "source": [
    "Merito = ['Sim'] * df.shape[0]\n",
    "dic = {'Mérito': Merito}\n",
    "aux = pd.DataFrame(data=dic)\n",
    "df = df.join(aux)\n",
    "df['Mérito'].loc[(df['Média'] < 17) | (df['Laboratórios'].isnull()) | (df[' Alg. Avançados'].isnull()) | (df[' Biologia Sistemas'].isnull())] = 'Não'\n",
    "df"
   ]
  }
 ],
 "metadata": {
  "anaconda-cloud": {},
  "kernelspec": {
   "display_name": "Python 3",
   "language": "python",
   "name": "python3"
  },
  "language_info": {
   "codemirror_mode": {
    "name": "ipython",
    "version": 3
   },
   "file_extension": ".py",
   "mimetype": "text/x-python",
   "name": "python",
   "nbconvert_exporter": "python",
   "pygments_lexer": "ipython3",
   "version": "3.8.5-final"
  }
 },
 "nbformat": 4,
 "nbformat_minor": 1
}