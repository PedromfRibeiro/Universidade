{
  "nbformat": 4,
  "nbformat_minor": 0,
  "metadata": {
    "colab": {
      "name": "PySpark.ipynb",
      "provenance": [],
      "collapsed_sections": [],
      "authorship_tag": "ABX9TyP4IJGMZNhaAChpZF9IToFV",
      "include_colab_link": true
    },
    "kernelspec": {
      "name": "python3",
      "display_name": "Python 3"
    },
    "language_info": {
      "name": "python"
    }
  },
  "cells": [
    {
      "cell_type": "markdown",
      "metadata": {
        "id": "view-in-github",
        "colab_type": "text"
      },
      "source": [
        "<a href=\"https://colab.research.google.com/github/PedromfRibeiro/GGCD/blob/main/PySpark.ipynb\" target=\"_parent\"><img src=\"https://colab.research.google.com/assets/colab-badge.svg\" alt=\"Open In Colab\"/></a>"
      ]
    },
    {
      "cell_type": "code",
      "metadata": {
        "id": "TaPyMjGJ1QwE"
      },
      "source": [
        "#install all\n",
        "!apt-get install openjdk-8-jdk-headless -qq > /dev/null\n",
        "!wget -q https://downloads.apache.org/spark/spark-3.1.1/spark-3.1.1-bin-hadoop2.7.tgz\n",
        "!tar -xvf spark-3.1.1-bin-hadoop2.7.tgz\n",
        "!pip install -q findspark\n",
        "!pip install pyspark\n",
        "from IPython.display import clear_output\n",
        "import os\n",
        "os.environ[\"JAVA_HOME\"] = \"/usr/lib/jvm/java-8-openjdk-amd64\"\n",
        "os.environ[\"SPARK_HOME\"] = \"/content/spark-3.1.1-bin-hadoop2.7\"\n",
        "clear_output()"
      ],
      "execution_count": 1,
      "outputs": []
    },
    {
      "cell_type": "code",
      "metadata": {
        "id": "Wpx4GzDx59JK",
        "colab": {
          "base_uri": "https://localhost:8080/",
          "height": 17
        },
        "outputId": "cd717c65-8063-4b44-c043-7b305230db08"
      },
      "source": [
        "#!/usr/bin/python3.7\n",
        "import findspark\n",
        "from pyspark import SparkContext\n",
        "from IPython.core.display import display, HTML\n",
        "display(HTML(\"<style>.container { width:100% !important; }</style>\"))\n",
        "findspark.init()\n",
        "if 'sc' in  locals():\n",
        "    sc.stop()\n",
        "import sys\n",
        "from time import time\n",
        "from pyspark.sql.functions import split, explode\n",
        "from pyspark import SparkConf\n",
        "from pyspark.sql import *\n",
        "import pyspark.sql.functions as f\n",
        "from pyspark.sql import functions as F\n",
        "\n",
        "from pyspark.sql.functions import lit,udf, struct,col, when ,rank\n",
        "from pyspark.sql.window import Window\n",
        "from pyspark.sql.types import *\n",
        "from pyspark import StorageLevel\n",
        "from pyspark.streaming import StreamingContext\n",
        "from IPython.core.display import display, HTML\n",
        "#import org.apache.spark.sql.types.DateType\n",
        "#spark.conf.set(\"spark.sql.session.timeZone\", \"Portugal/Lisbon\")\n",
        "import pandas as pd\n",
        "import urllib\n",
        "import gzip\n",
        "conf = (SparkConf()\n",
        " .setMaster(\"local[*]\")\n",
        " .setAppName(\"data_frame\")\n",
        " .set(\"spark.driver.cores\",\"15\")\n",
        " .set(\"spark.executor.instances\", \"15\")\n",
        " .set(\"spark.executor.cores\", \"15\")\n",
        " .set(\"spark.dynamicAllocation.enabled\", \"false\")\n",
        " .set(\"spark.shuffle.service.enabled\", \"false\")\n",
        " .set(\"spark.driver.maxResultSize\", \"20G\")\n",
        " .set(\"spark.driver.memory\",\"4G\")\n",
        " .set(\"spark.executor.memory\", \"4G\"))\n",
        "sc = SparkContext(conf = conf)\n",
        "sqlContext = SQLContext(sc)\n",
        "sqlContext.clearCache()\n",
        "sc._conf.getAll()\n",
        "spark = SparkSession.builder.appName('EXAMPLE').getOrCreate()\n"
      ],
      "execution_count": 17,
      "outputs": [
        {
          "output_type": "display_data",
          "data": {
            "text/html": [
              "<style>.container { width:100% !important; }</style>"
            ],
            "text/plain": [
              "<IPython.core.display.HTML object>"
            ]
          },
          "metadata": {
            "tags": []
          }
        }
      ]
    },
    {
      "cell_type": "code",
      "metadata": {
        "id": "RDwm8Ub985jK"
      },
      "source": [
        "#Donwload File\n",
        "from os import path\n",
        "def Donwload_FilesFULL(name):\n",
        "    if path.exists(\"/content/\"+name+\".gz\") is False:\n",
        "        url = \"https://datasets.imdbws.com/\"+name+\".gz\"\n",
        "        !wget -q $url \n",
        "    if path.exists(\"/content/\"+name) is False:\n",
        "        unzip = name+\".gz\"\n",
        "        !gzip -d $unzip\n",
        "def Donwload_FilesMINI():\n",
        "    if path.exists(\"/content/title.basics.tsv.bz2\") is  False:\n",
        "        !wget -q url https://storage.googleapis.com/ggcdimdb/mini/title.basics.tsv.bz2\n",
        "    if path.exists(\"/content/title.basics.tsv\") is False:\n",
        "        !bzip2 -d title.basics.tsv.bz2"
      ],
      "execution_count": 3,
      "outputs": []
    },
    {
      "cell_type": "markdown",
      "metadata": {
        "id": "BNR_Y5MYpqF_"
      },
      "source": [
        "#Exercicio 2.a) Top Generos"
      ]
    },
    {
      "cell_type": "code",
      "metadata": {
        "colab": {
          "base_uri": "https://localhost:8080/"
        },
        "id": "qegnRm5eJ4zN",
        "outputId": "fbcb83ea-430c-4e91-d23e-485e70b0204a"
      },
      "source": [
        "t0=time()\n",
        "#Donwload do ficheiro\n",
        "Donwload_FilesFULL(\"title.basics.tsv\")\n",
        "#Leitura do ficheiro\n",
        "df = spark.read.csv(\"/content/title.basics.tsv\", sep=r'\\t', header=True)\n",
        "#Remover dados nâo essenciais e seperar a coluna generos\n",
        "df1 = (df[\"startYear\",\"genres\"]).withColumn('genres',explode(split('genres',',')))\n",
        "#alterar o startYear para apenas contabilizar as decadas e não os anos\n",
        "df1 = df1.withColumn('startYear', df['startYear'].substr(1, 3))\n",
        "#Remover dados em branco\n",
        "df1 = df1.filter((df.startYear != '\\\\N')&(df.genres != '\\\\N'))\n",
        "df1 = df1.groupby('startYear','genres').count()\n",
        "output = df1.groupBy(F.col('startYear')).agg(F.first('genres').alias('genero'),F.max('count').alias('Quantidade')).orderBy(['startYear'])\n",
        "output.cache()\n",
        "#spark.catalog.clearCache()\n",
        "output.show()\n",
        "print(\"Total:\\n\"+\"-\"*40+\"\\n\"+(str(time() - t0))+\"\\n\"+\"-\"*40)"
      ],
      "execution_count": null,
      "outputs": [
        {
          "output_type": "stream",
          "text": [
            "+---------+-----------+----------+\n",
            "|startYear|     genero|Quantidade|\n",
            "+---------+-----------+----------+\n",
            "|      187|Documentary|         4|\n",
            "|      188|      Sport|        55|\n",
            "|      189|      Sport|      6041|\n",
            "|      190|      Music|     25476|\n",
            "|      191|    Mystery|     58857|\n",
            "|      192|     Horror|     14021|\n",
            "|      193|    History|      9304|\n",
            "|      194|    Western|      7735|\n",
            "|      195|      Adult|     41147|\n",
            "|      196|Documentary|     62467|\n",
            "|      197|Documentary|    101598|\n",
            "|      198|      Adult|    120630|\n",
            "|      199|      Short|    195214|\n",
            "|      200|      Short|    404800|\n",
            "|      201|  Talk-Show|    777901|\n",
            "|      202|      Drama|     87785|\n",
            "+---------+-----------+----------+\n",
            "\n",
            "None\n",
            "Total:\n",
            "----------------------------------------\n",
            "25.018404722213745\n",
            "----------------------------------------\n"
          ],
          "name": "stdout"
        }
      ]
    },
    {
      "cell_type": "markdown",
      "metadata": {
        "id": "fwagNBjqpvXf"
      },
      "source": [
        "#Exercicio 3.a) Base"
      ]
    },
    {
      "cell_type": "code",
      "metadata": {
        "colab": {
          "base_uri": "https://localhost:8080/"
        },
        "id": "WGQljdCWdFdM",
        "outputId": "7ad91a67-4cbd-4acd-d3ee-c842f3572433"
      },
      "source": [
        "t0=time()\n",
        "\n",
        "#Donwload Dos ficheiros\n",
        "Donwload_FilesFULL(\"name.basics.tsv\")\n",
        "Donwload_FilesFULL(\"title.principals.tsv\")\n",
        "Donwload_FilesFULL(\"title.basics.tsv\")\n",
        "Donwload_FilesFULL(\"title.ratings.tsv\")\n",
        "#Leitura dos ficheiro\n",
        "df_actor = spark.read.csv(\"/content/name.basics.tsv\",      sep=r'\\t', header=True)\n",
        "df_year  = spark.read.csv(\"/content/title.basics.tsv\",     sep=r'\\t', header=True)\n",
        "df_title = spark.read.csv(\"/content/title.principals.tsv\", sep=r'\\t', header=True)\n",
        "df_rting = spark.read.csv(\"/content/title.ratings.tsv\",    sep=r'\\t', header=True)\n",
        "#Remover dados nâo essenciais\n",
        "df_title = df_title['tconst','nconst']\n",
        "df_year  = df_year ['tconst','primaryTitle','startYear']\n",
        "df_actor = df_actor['nconst','primaryName','birthYear','deathYear']\n",
        "df_actor = df_actor.replace('\\\\N',\"2021\")\n",
        "\n",
        "#Join dos ficheiros\n",
        "joined1 = df_title.join(df_year,on='tconst')\n",
        "joined1 = joined1.join(df_rting,on='tconst')\n",
        "joined1 = joined1.join(df_actor,on='nconst')\n",
        "#Resultado pretendido\n",
        "joined2 = joined1.groupBy('nconst').agg(\n",
        "    F.first('primaryName').alias('Nome'),\n",
        "    (F.max('deathYear')-F.max('birthYear')).alias('Idade'),\n",
        "    F.count('tconst').alias('Nº Presenças'),\n",
        "    (F.max('startYear')-F.min('startYear')).alias('Na Atividade'),\n",
        "    F.mean('averageRating').cast(DecimalType(3)).alias('Media de rating')\n",
        "    )\n",
        "joined2.cache()\n",
        "#spark.catalog.clearCache()\n",
        "joined2.show()\n",
        "print(\"Total:\\n\"+\"-\"*40+\"\\n\"+(str(time() - t0))+\"\\n\"+\"-\"*40)\n",
        "#de notar que a função Cast tem uma performace muito negativa para o benchmark do processo, sem ela a media ir a dar com varias casas decimais."
      ],
      "execution_count": null,
      "outputs": [
        {
          "output_type": "stream",
          "text": [
            "+---------+--------------------+-----+------------+------------+---------------+\n",
            "|   nconst|                Nome|Idade|Nº Presenças|Na Atividade|Media de rating|\n",
            "+---------+--------------------+-----+------------+------------+---------------+\n",
            "|nm0000086|      Louis de Funès| 69.0|          59|        70.0|              7|\n",
            "|nm0000198|         Gary Oldman| 63.0|         120|        37.0|              7|\n",
            "|nm0000354|          Matt Damon| 51.0|         232|        41.0|              6|\n",
            "|nm0000362|        Danny DeVito| 77.0|         293|        48.0|              7|\n",
            "|nm0000493|         Jack Lemmon| 76.0|         146|        66.0|              7|\n",
            "|nm0000767| Jean-Hugues Anglade| 66.0|         120|        37.0|              7|\n",
            "|nm0000847|          Theda Bara| 70.0|          27|        98.0|              6|\n",
            "|nm0001079|    Scatman Crothers| 76.0|         142|        61.0|              7|\n",
            "|nm0001105|       Linda Darnell| 42.0|          54|        60.0|              7|\n",
            "|nm0002222| Christopher Bradley| 60.0|          13|        27.0|              7|\n",
            "|nm0002941|        Kevin Loader| 65.0|          28|        27.0|              7|\n",
            "|nm0003283|Christopher Webb ...|  0.0|           1|         0.0|              6|\n",
            "|nm0003678|           Kate Reid| 73.0|           1|         0.0|              5|\n",
            "|nm0003810|      Colin Matthews|  0.0|           1|         0.0|              8|\n",
            "|nm0003877|           Dan Brown| 51.0|           2|         8.0|              8|\n",
            "|nm0003926|       Michael Huens|  0.0|           3|        16.0|              7|\n",
            "|nm0004597|       Adam Weissman|  0.0|         280|        26.0|              7|\n",
            "|nm0004646|      Antonio Sabato| 78.0|          31|        45.0|              6|\n",
            "|nm0004709|    Giuseppe Andrews| 42.0|          36|        19.0|              7|\n",
            "|nm0004763|       Mary J. Blige| 50.0|         151|        39.0|              6|\n",
            "+---------+--------------------+-----+------------+------------+---------------+\n",
            "only showing top 20 rows\n",
            "\n",
            "Total:\n",
            "----------------------------------------\n",
            "148.80670166015625\n",
            "----------------------------------------\n"
          ],
          "name": "stdout"
        }
      ]
    },
    {
      "cell_type": "markdown",
      "metadata": {
        "id": "pyYkeIZzU8cN"
      },
      "source": [
        "# Exercicio 3.b) Hits"
      ]
    },
    {
      "cell_type": "code",
      "metadata": {
        "colab": {
          "base_uri": "https://localhost:8080/"
        },
        "id": "kkzeRPTnVCG4",
        "outputId": "bc4d7341-9e43-41bc-ba31-fbb874eaf66d"
      },
      "source": [
        "t0=time()\n",
        "\n",
        "#Donwload Dos ficheiros\n",
        "Donwload_FilesFULL(\"name.basics.tsv\")\n",
        "Donwload_FilesFULL(\"title.basics.tsv\")\n",
        "Donwload_FilesFULL(\"title.ratings.tsv\")\n",
        "Donwload_FilesFULL(\"title.principals.tsv\")\n",
        "\n",
        "#Leitura dos ficheiro\n",
        "df_actor = spark.read.csv(\"/content/name.basics.tsv\",      sep=r'\\t', header=True)\n",
        "df_movie  = spark.read.csv(\"/content/title.basics.tsv\",     sep=r'\\t', header=True)\n",
        "df_title = spark.read.csv(\"/content/title.principals.tsv\", sep=r'\\t', header=True)\n",
        "df_rting = spark.read.csv(\"/content/title.ratings.tsv\",    sep=r'\\t', header=True)\n",
        "#Remover dados nâo essenciais\n",
        "df_movie  = df_movie ['tconst','primaryTitle']\n",
        "df_actor = df_actor['nconst','primaryName']\n",
        "df_title = df_title['tconst','nconst']\n",
        "df_rting = df_rting['tconst','averageRating']\n",
        "\n",
        "joined1 = df_title.join(df_movie,on='tconst')\n",
        "joined1 = joined1.join(df_rting,on='tconst')\n",
        "joined1 = joined1.join(df_actor,on='nconst')\n",
        "\n",
        "\n",
        "window = Window.partitionBy(joined1['nconst']).orderBy(joined1['averageRating'].desc())\n",
        "\n",
        "result = joined1.select('*', rank().over(window).alias('rank')) .filter(col('rank') <= 10)\n",
        "result.cache()\n",
        "#spark.catalog.clearCache()\n",
        "result.show()\n",
        "\n",
        "print(\"Total:\\n\"+\"-\"*40+\"\\n\"+(str(time() - t0))+\"\\n\"+\"-\"*40)"
      ],
      "execution_count": 19,
      "outputs": [
        {
          "output_type": "stream",
          "text": [
            "+---------+----------+--------------------+-------------+--------------+----+\n",
            "|   nconst|    tconst|        primaryTitle|averageRating|   primaryName|rank|\n",
            "+---------+----------+--------------------+-------------+--------------+----+\n",
            "|nm0000086| tt3533882|Louis de Funès, d...|          8.6|Louis de Funès|   1|\n",
            "|nm0000086| tt8768374|Le gendarme et l'...|          8.3|Louis de Funès|   2|\n",
            "|nm0000086| tt0060474|La Grande Vadrouille|          7.9|Louis de Funès|   3|\n",
            "|nm0000086| tt2949354|   Monsieur de Funès|          7.7|Louis de Funès|   4|\n",
            "|nm0000086|tt12600988|La folle aventure...|          7.6|Louis de Funès|   5|\n",
            "|nm0000086| tt0062083|               Oscar|          7.5|Louis de Funès|   6|\n",
            "|nm0000086| tt0804908|Louis de Funès ou...|          7.5|Louis de Funès|   6|\n",
            "|nm0000086| tt4307300|Louis de Funès et...|          7.5|Louis de Funès|   6|\n",
            "|nm0000086| tt0069747|The Mad Adventure...|          7.4|Louis de Funès|   9|\n",
            "|nm0000086| tt0049877|      Four Bags Full|          7.4|Louis de Funès|   9|\n",
            "|nm0000086| tt0057967|          The Sucker|          7.4|Louis de Funès|   9|\n",
            "|nm0000198| tt1432101|Take Flight: Gary...|          8.8|   Gary Oldman|   1|\n",
            "|nm0000198| tt1266300|The Best Man for ...|          8.6|   Gary Oldman|   2|\n",
            "|nm0000198| tt2395259|Jack White: Unstaged|          8.5|   Gary Oldman|   3|\n",
            "|nm0000198| tt0110413|Léon: The Profess...|          8.5|   Gary Oldman|   3|\n",
            "|nm0000198|tt10260592|Hollywood's Deadl...|          8.5|   Gary Oldman|   3|\n",
            "|nm0000198| tt1345836|The Dark Knight R...|          8.4|   Gary Oldman|   6|\n",
            "|nm0000198| tt5921272|   The Undead Series|          8.4|   Gary Oldman|   6|\n",
            "|nm0000198| tt3038760|David Bowie: The ...|          8.3|   Gary Oldman|   8|\n",
            "|nm0000198| tt7732340|Gary Oldman/Hugh ...|          8.3|   Gary Oldman|   8|\n",
            "+---------+----------+--------------------+-------------+--------------+----+\n",
            "only showing top 20 rows\n",
            "\n",
            "Total:\n",
            "----------------------------------------\n",
            "164.04407143592834\n",
            "----------------------------------------\n"
          ],
          "name": "stdout"
        }
      ]
    }
  ]
}